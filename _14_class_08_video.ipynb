{
  "nbformat": 4,
  "nbformat_minor": 0,
  "metadata": {
    "colab": {
      "provenance": [],
      "authorship_tag": "ABX9TyP0d1I30mY0x6W4qNshj0MT",
      "include_colab_link": true
    },
    "kernelspec": {
      "name": "python3",
      "display_name": "Python 3"
    },
    "language_info": {
      "name": "python"
    }
  },
  "cells": [
    {
      "cell_type": "markdown",
      "metadata": {
        "id": "view-in-github",
        "colab_type": "text"
      },
      "source": [
        "<a href=\"https://colab.research.google.com/github/MohammedHashir1/DATA-SCIENCE-JOURNEY/blob/main/_14_class_08_video.ipynb\" target=\"_parent\"><img src=\"https://colab.research.google.com/assets/colab-badge.svg\" alt=\"Open In Colab\"/></a>"
      ]
    },
    {
      "cell_type": "code",
      "execution_count": 2,
      "metadata": {
        "colab": {
          "base_uri": "https://localhost:8080/"
        },
        "id": "wsh17p1KUanO",
        "outputId": "93f75367-5141-4d76-ecaf-d7ea43b71322"
      },
      "outputs": [
        {
          "output_type": "stream",
          "name": "stdout",
          "text": [
            "1\n",
            "2\n",
            "5.0\n",
            "maaz\n",
            "(1+2j)\n"
          ]
        }
      ],
      "source": [
        "A=(1,2,5.0,\"maaz\",1+2j,)\n",
        "for i in A:\n",
        "  print(i)"
      ]
    },
    {
      "cell_type": "code",
      "source": [
        "A=[1,2,5.0,\"maaz\",1+2j]\n",
        "for i in range(len(A)):\n",
        "  print(f\"i={i}, value={A[i]}, the data type of these are :{type(A[i])}\")"
      ],
      "metadata": {
        "colab": {
          "base_uri": "https://localhost:8080/"
        },
        "id": "sLDZGGn_UyZk",
        "outputId": "4bf14c0e-6423-45e5-dd05-6dfb2e423ea3"
      },
      "execution_count": 9,
      "outputs": [
        {
          "output_type": "stream",
          "name": "stdout",
          "text": [
            "i=0, value=1, the data type of these are :<class 'int'>\n",
            "i=1, value=2, the data type of these are :<class 'int'>\n",
            "i=2, value=5.0, the data type of these are :<class 'float'>\n",
            "i=3, value=maaz, the data type of these are :<class 'str'>\n",
            "i=4, value=(1+2j), the data type of these are :<class 'complex'>\n"
          ]
        }
      ]
    },
    {
      "cell_type": "code",
      "source": [
        "A=[1,2,5.0,\"maaz\",1+2j]\n",
        "for i in A:\n",
        "  print(i)"
      ],
      "metadata": {
        "colab": {
          "base_uri": "https://localhost:8080/"
        },
        "id": "4K0L-bwrVRtl",
        "outputId": "a6cdaa59-6d6f-40a8-eb16-2f3d052465e6"
      },
      "execution_count": 10,
      "outputs": [
        {
          "output_type": "stream",
          "name": "stdout",
          "text": [
            "1\n",
            "2\n",
            "5.0\n",
            "maaz\n",
            "(1+2j)\n"
          ]
        }
      ]
    },
    {
      "cell_type": "code",
      "source": [
        "A=[1,2,5.0,\"maaz\",1+2j]\n",
        "A[3]"
      ],
      "metadata": {
        "colab": {
          "base_uri": "https://localhost:8080/",
          "height": 36
        },
        "id": "wZCfVHzVWHmG",
        "outputId": "99fdd35c-b3e9-4203-dab6-46c8c0168738"
      },
      "execution_count": 13,
      "outputs": [
        {
          "output_type": "execute_result",
          "data": {
            "text/plain": [
              "'maaz'"
            ],
            "application/vnd.google.colaboratory.intrinsic+json": {
              "type": "string"
            }
          },
          "metadata": {},
          "execution_count": 13
        }
      ]
    },
    {
      "cell_type": "code",
      "source": [
        "A"
      ],
      "metadata": {
        "colab": {
          "base_uri": "https://localhost:8080/"
        },
        "id": "5nKoePnAWPdP",
        "outputId": "70712e0f-92c5-4b97-8c5b-315573214a65"
      },
      "execution_count": 14,
      "outputs": [
        {
          "output_type": "execute_result",
          "data": {
            "text/plain": [
              "[1, 2, 5.0, 'maaz', (1+2j)]"
            ]
          },
          "metadata": {},
          "execution_count": 14
        }
      ]
    },
    {
      "cell_type": "code",
      "source": [
        "A[4:]"
      ],
      "metadata": {
        "colab": {
          "base_uri": "https://localhost:8080/"
        },
        "id": "ho7iOfv9WuHX",
        "outputId": "430f26e8-b9e7-4c8b-8b39-52a4f5b2c187"
      },
      "execution_count": 16,
      "outputs": [
        {
          "output_type": "execute_result",
          "data": {
            "text/plain": [
              "[(1+2j)]"
            ]
          },
          "metadata": {},
          "execution_count": 16
        }
      ]
    },
    {
      "cell_type": "code",
      "source": [
        "A[0::4]"
      ],
      "metadata": {
        "colab": {
          "base_uri": "https://localhost:8080/"
        },
        "id": "nQJWA4o_W6JM",
        "outputId": "55e716d6-2c37-4fc3-d06e-4dbcb28bd5c2"
      },
      "execution_count": 17,
      "outputs": [
        {
          "output_type": "execute_result",
          "data": {
            "text/plain": [
              "[1, (1+2j)]"
            ]
          },
          "metadata": {},
          "execution_count": 17
        }
      ]
    },
    {
      "cell_type": "code",
      "source": [
        "for i in range(0,5,2):\n",
        "  print(i,A[i])"
      ],
      "metadata": {
        "colab": {
          "base_uri": "https://localhost:8080/"
        },
        "id": "f-B46cVuXHGN",
        "outputId": "69d0fcab-d184-40c0-c7a1-5aa77d1d2738"
      },
      "execution_count": 21,
      "outputs": [
        {
          "output_type": "stream",
          "name": "stdout",
          "text": [
            "0 1\n",
            "2 5.0\n",
            "4 (1+2j)\n"
          ]
        }
      ]
    },
    {
      "cell_type": "code",
      "source": [
        "A[::-1]"
      ],
      "metadata": {
        "colab": {
          "base_uri": "https://localhost:8080/"
        },
        "id": "7f-NT609XoTf",
        "outputId": "9b94d9b4-087e-40f6-a6fa-d617063107d4"
      },
      "execution_count": 22,
      "outputs": [
        {
          "output_type": "execute_result",
          "data": {
            "text/plain": [
              "[(1+2j), 'maaz', 5.0, 2, 1]"
            ]
          },
          "metadata": {},
          "execution_count": 22
        }
      ]
    },
    {
      "cell_type": "code",
      "source": [
        "A[:-2]"
      ],
      "metadata": {
        "colab": {
          "base_uri": "https://localhost:8080/"
        },
        "id": "PUFxivMkYS2J",
        "outputId": "aea4b473-5378-465e-99f6-3ac808846bde"
      },
      "execution_count": 23,
      "outputs": [
        {
          "output_type": "execute_result",
          "data": {
            "text/plain": [
              "[1, 2, 5.0]"
            ]
          },
          "metadata": {},
          "execution_count": 23
        }
      ]
    },
    {
      "cell_type": "code",
      "source": [
        "for i in range(-1,-len(A)-1,-1):\n",
        "  print(i,A[i])"
      ],
      "metadata": {
        "colab": {
          "base_uri": "https://localhost:8080/"
        },
        "id": "LI4JIWRhZgfR",
        "outputId": "4e34c6c7-c503-44e6-bb46-003436f05dec"
      },
      "execution_count": 36,
      "outputs": [
        {
          "output_type": "stream",
          "name": "stdout",
          "text": [
            "-1 (1+2j)\n",
            "-2 maaz\n",
            "-3 5.0\n",
            "-4 2\n",
            "-5 1\n"
          ]
        }
      ]
    },
    {
      "cell_type": "code",
      "source": [
        "for i in range(1,2,4):\n",
        "  print(i,A[i])"
      ],
      "metadata": {
        "colab": {
          "base_uri": "https://localhost:8080/"
        },
        "id": "CuIwK7kfaLVH",
        "outputId": "7e6dea8b-4c6d-45ee-c48d-779546da4ec5"
      },
      "execution_count": 38,
      "outputs": [
        {
          "output_type": "stream",
          "name": "stdout",
          "text": [
            "1 2\n"
          ]
        }
      ]
    },
    {
      "cell_type": "code",
      "source": [
        "A"
      ],
      "metadata": {
        "colab": {
          "base_uri": "https://localhost:8080/"
        },
        "id": "Yu5k8116cxOj",
        "outputId": "b607992b-9316-4796-cb46-2b9e2cf6f059"
      },
      "execution_count": 39,
      "outputs": [
        {
          "output_type": "execute_result",
          "data": {
            "text/plain": [
              "[1, 2, 5.0, 'maaz', (1+2j)]"
            ]
          },
          "metadata": {},
          "execution_count": 39
        }
      ]
    },
    {
      "cell_type": "code",
      "source": [
        "for i in (0,2,4):\n",
        "  print(i,A[i])"
      ],
      "metadata": {
        "colab": {
          "base_uri": "https://localhost:8080/"
        },
        "id": "8xXbVTpDc5iG",
        "outputId": "c0084763-4dfb-4c76-a4f6-f47358f2eb4b"
      },
      "execution_count": 43,
      "outputs": [
        {
          "output_type": "stream",
          "name": "stdout",
          "text": [
            "0 1\n",
            "2 5.0\n",
            "4 (1+2j)\n"
          ]
        }
      ]
    },
    {
      "cell_type": "code",
      "source": [
        "A.replace(2,\"5\"):\n",
        "print(A)"
      ],
      "metadata": {
        "colab": {
          "base_uri": "https://localhost:8080/",
          "height": 109
        },
        "id": "OcMmOjtCc9W7",
        "outputId": "ded0b4bc-3b68-484f-8ea8-2dc0b92abea8"
      },
      "execution_count": 44,
      "outputs": [
        {
          "output_type": "error",
          "ename": "SyntaxError",
          "evalue": "invalid syntax (<ipython-input-44-cc19566a8cf5>, line 1)",
          "traceback": [
            "\u001b[0;36m  File \u001b[0;32m\"<ipython-input-44-cc19566a8cf5>\"\u001b[0;36m, line \u001b[0;32m1\u001b[0m\n\u001b[0;31m    A.replace(2,\"5\"):\u001b[0m\n\u001b[0m                    ^\u001b[0m\n\u001b[0;31mSyntaxError\u001b[0m\u001b[0;31m:\u001b[0m invalid syntax\n"
          ]
        }
      ]
    },
    {
      "cell_type": "code",
      "source": [
        "A[3]=\"Ksi\""
      ],
      "metadata": {
        "id": "GkrJVTcrdmj4"
      },
      "execution_count": 47,
      "outputs": []
    },
    {
      "cell_type": "code",
      "source": [
        "A"
      ],
      "metadata": {
        "colab": {
          "base_uri": "https://localhost:8080/"
        },
        "id": "vwPpzg5sdxmT",
        "outputId": "97631e0b-54a8-486e-9f34-c63dd946fff2"
      },
      "execution_count": 48,
      "outputs": [
        {
          "output_type": "execute_result",
          "data": {
            "text/plain": [
              "[1, 2, 5.0, 'Ksi', (1+2j)]"
            ]
          },
          "metadata": {},
          "execution_count": 48
        }
      ]
    },
    {
      "cell_type": "code",
      "source": [
        " B=[\"huwai\",\"mountains\",\"dog\",\"viral\"]"
      ],
      "metadata": {
        "id": "uZlMeQ1Xdzuh"
      },
      "execution_count": 49,
      "outputs": []
    },
    {
      "cell_type": "code",
      "source": [
        "A+B"
      ],
      "metadata": {
        "colab": {
          "base_uri": "https://localhost:8080/"
        },
        "id": "JepPgg4wehsV",
        "outputId": "1413face-959f-4245-e551-7a3c2f8b4e1c"
      },
      "execution_count": 50,
      "outputs": [
        {
          "output_type": "execute_result",
          "data": {
            "text/plain": [
              "[1, 2, 5.0, 'Ksi', (1+2j), 'huwai', 'mountains', 'dog', 'viral']"
            ]
          },
          "metadata": {},
          "execution_count": 50
        }
      ]
    },
    {
      "cell_type": "code",
      "source": [
        "A-B"
      ],
      "metadata": {
        "colab": {
          "base_uri": "https://localhost:8080/",
          "height": 146
        },
        "id": "LblxcuBCelxX",
        "outputId": "0c239e56-8765-47a1-e62c-251d60647501"
      },
      "execution_count": 51,
      "outputs": [
        {
          "output_type": "error",
          "ename": "TypeError",
          "evalue": "unsupported operand type(s) for -: 'list' and 'list'",
          "traceback": [
            "\u001b[0;31m---------------------------------------------------------------------------\u001b[0m",
            "\u001b[0;31mTypeError\u001b[0m                                 Traceback (most recent call last)",
            "\u001b[0;32m<ipython-input-51-ca2486c81344>\u001b[0m in \u001b[0;36m<cell line: 0>\u001b[0;34m()\u001b[0m\n\u001b[0;32m----> 1\u001b[0;31m \u001b[0mA\u001b[0m\u001b[0;34m-\u001b[0m\u001b[0mB\u001b[0m\u001b[0;34m\u001b[0m\u001b[0;34m\u001b[0m\u001b[0m\n\u001b[0m",
            "\u001b[0;31mTypeError\u001b[0m: unsupported operand type(s) for -: 'list' and 'list'"
          ]
        }
      ]
    },
    {
      "cell_type": "code",
      "source": [
        "A * 3"
      ],
      "metadata": {
        "colab": {
          "base_uri": "https://localhost:8080/"
        },
        "id": "Agv9_-hGenYQ",
        "outputId": "4f976b83-ad07-443c-97bb-af7ddda2133c"
      },
      "execution_count": 53,
      "outputs": [
        {
          "output_type": "execute_result",
          "data": {
            "text/plain": [
              "[1, 2, 5.0, 'Ksi', (1+2j), 1, 2, 5.0, 'Ksi', (1+2j), 1, 2, 5.0, 'Ksi', (1+2j)]"
            ]
          },
          "metadata": {},
          "execution_count": 53
        }
      ]
    },
    {
      "cell_type": "code",
      "source": [
        "B+A"
      ],
      "metadata": {
        "colab": {
          "base_uri": "https://localhost:8080/"
        },
        "id": "RmUL6gwrewr0",
        "outputId": "4261227f-1273-4a71-bba9-bd92e7e72ae2"
      },
      "execution_count": 54,
      "outputs": [
        {
          "output_type": "execute_result",
          "data": {
            "text/plain": [
              "['huwai', 'mountains', 'dog', 'viral', 1, 2, 5.0, 'Ksi', (1+2j)]"
            ]
          },
          "metadata": {},
          "execution_count": 54
        }
      ]
    },
    {
      "cell_type": "code",
      "source": [
        "A*0"
      ],
      "metadata": {
        "colab": {
          "base_uri": "https://localhost:8080/"
        },
        "id": "cC7QH9nde-WN",
        "outputId": "91984184-cda2-4d83-91d2-31a0e54c1cfc"
      },
      "execution_count": 55,
      "outputs": [
        {
          "output_type": "execute_result",
          "data": {
            "text/plain": [
              "[]"
            ]
          },
          "metadata": {},
          "execution_count": 55
        }
      ]
    },
    {
      "cell_type": "code",
      "source": [
        "item =str(input(\"enter your list of items : \"))\n",
        "for i in item:\n",
        "  print(f\"i={item(i)}, the list is : {item[i]}\")"
      ],
      "metadata": {
        "colab": {
          "base_uri": "https://localhost:8080/",
          "height": 200
        },
        "id": "p3vFA5wwfIHF",
        "outputId": "c3a89889-2fb7-42f3-9e70-3f6dade3f0df"
      },
      "execution_count": 59,
      "outputs": [
        {
          "name": "stdout",
          "output_type": "stream",
          "text": [
            "enter your list of items : fksk,modisa,djse\n"
          ]
        },
        {
          "output_type": "error",
          "ename": "TypeError",
          "evalue": "'str' object is not callable",
          "traceback": [
            "\u001b[0;31m---------------------------------------------------------------------------\u001b[0m",
            "\u001b[0;31mTypeError\u001b[0m                                 Traceback (most recent call last)",
            "\u001b[0;32m<ipython-input-59-eb059bb0b01a>\u001b[0m in \u001b[0;36m<cell line: 0>\u001b[0;34m()\u001b[0m\n\u001b[1;32m      1\u001b[0m \u001b[0mitem\u001b[0m \u001b[0;34m=\u001b[0m\u001b[0mstr\u001b[0m\u001b[0;34m(\u001b[0m\u001b[0minput\u001b[0m\u001b[0;34m(\u001b[0m\u001b[0;34m\"enter your list of items : \"\u001b[0m\u001b[0;34m)\u001b[0m\u001b[0;34m)\u001b[0m\u001b[0;34m\u001b[0m\u001b[0;34m\u001b[0m\u001b[0m\n\u001b[1;32m      2\u001b[0m \u001b[0;32mfor\u001b[0m \u001b[0mi\u001b[0m \u001b[0;32min\u001b[0m \u001b[0mitem\u001b[0m\u001b[0;34m:\u001b[0m\u001b[0;34m\u001b[0m\u001b[0;34m\u001b[0m\u001b[0m\n\u001b[0;32m----> 3\u001b[0;31m   \u001b[0mprint\u001b[0m\u001b[0;34m(\u001b[0m\u001b[0;34mf\"i={item(i)}, the list is : {item[i]}\"\u001b[0m\u001b[0;34m)\u001b[0m\u001b[0;34m\u001b[0m\u001b[0;34m\u001b[0m\u001b[0m\n\u001b[0m",
            "\u001b[0;31mTypeError\u001b[0m: 'str' object is not callable"
          ]
        }
      ]
    },
    {
      "cell_type": "code",
      "source": [
        "list_of_item=list()\n",
        "for i in range(10):\n",
        "  user=input(\"enter the item that you want to purchase :\")\n",
        "  list_of_item=list_of_item +[user]\n",
        "print(list_of_item)"
      ],
      "metadata": {
        "colab": {
          "base_uri": "https://localhost:8080/"
        },
        "id": "VV4DeHEUiimc",
        "outputId": "13cc13f5-ff81-47b7-9aab-0a2c0ebe3e06"
      },
      "execution_count": 62,
      "outputs": [
        {
          "output_type": "stream",
          "name": "stdout",
          "text": [
            "enter the item that you want to purchase :k\n",
            "enter the item that you want to purchase :e\n",
            "enter the item that you want to purchase :i\n",
            "enter the item that you want to purchase :a\n",
            "enter the item that you want to purchase :n\n",
            "enter the item that you want to purchase :i\n",
            "enter the item that you want to purchase :m\n",
            "enter the item that you want to purchase :a\n",
            "enter the item that you want to purchase :b\n",
            "enter the item that you want to purchase :e\n",
            "['k', 'e', 'i', 'a', 'n', 'i', 'm', 'a', 'b', 'e']\n"
          ]
        }
      ]
    },
    {
      "cell_type": "code",
      "source": [
        "me = list()\n",
        "n=int(input(\"enter the number of item you want to purchase : \"))\n",
        "for i in range(n):\n",
        "  user=input(\"enter the list of items : \")\n",
        "  me = me + [user]\n",
        "print(me)"
      ],
      "metadata": {
        "colab": {
          "base_uri": "https://localhost:8080/"
        },
        "id": "kzdYUnxNi4VN",
        "outputId": "1af67f96-b266-4c6f-a43d-755d736d238c"
      },
      "execution_count": 67,
      "outputs": [
        {
          "output_type": "stream",
          "name": "stdout",
          "text": [
            "enter the number of item you want to purchase : 10\n",
            "enter the list of items : k\n",
            "enter the list of items : e\n",
            "enter the list of items : i\n",
            "enter the list of items : a\n",
            "enter the list of items : n\n",
            "enter the list of items : \n",
            "enter the list of items : m\n",
            "enter the list of items : a\n",
            "enter the list of items : b\n",
            "enter the list of items : e\n",
            "['k', 'e', 'i', 'a', 'n', '', 'm', 'a', 'b', 'e']\n"
          ]
        }
      ]
    },
    {
      "cell_type": "code",
      "source": [
        "me = list()\n",
        "n=int(input(\"enter the number of item you want to purchase : \"))\n",
        "i=0\n",
        "while i<=n:\n",
        "  user=input(\"enter the list of items : \")\n",
        "  me = me+ [user]\n",
        "  i=i+1\n",
        "print(f\"i = {i}, the cureent list : {me}\")\n"
      ],
      "metadata": {
        "colab": {
          "base_uri": "https://localhost:8080/"
        },
        "id": "SavXWWLql8fM",
        "outputId": "7b3aa6b2-6d60-46df-c9bd-e649db7e391d"
      },
      "execution_count": 80,
      "outputs": [
        {
          "output_type": "stream",
          "name": "stdout",
          "text": [
            "enter the number of item you want to purchase : 1\n",
            "enter the list of items : k\n",
            "enter the list of items : h\n",
            "i = 2, the cureent list : ['k', 'h']\n"
          ]
        }
      ]
    },
    {
      "cell_type": "code",
      "source": [
        "\"h\" in me"
      ],
      "metadata": {
        "colab": {
          "base_uri": "https://localhost:8080/"
        },
        "id": "0BYnf8nMmPiP",
        "outputId": "08cd8d27-db66-461d-f61d-2ace5d90ea00"
      },
      "execution_count": 81,
      "outputs": [
        {
          "output_type": "execute_result",
          "data": {
            "text/plain": [
              "True"
            ]
          },
          "metadata": {},
          "execution_count": 81
        }
      ]
    },
    {
      "cell_type": "code",
      "source": [
        "\"k\" in me"
      ],
      "metadata": {
        "colab": {
          "base_uri": "https://localhost:8080/"
        },
        "id": "acmbT7Pcn6Zg",
        "outputId": "661d3f61-d7dd-41a2-bb28-88aa6e482dde"
      },
      "execution_count": 82,
      "outputs": [
        {
          "output_type": "execute_result",
          "data": {
            "text/plain": [
              "True"
            ]
          },
          "metadata": {},
          "execution_count": 82
        }
      ]
    },
    {
      "cell_type": "markdown",
      "source": [],
      "metadata": {
        "id": "CWERjvq8Q1aZ"
      }
    },
    {
      "cell_type": "code",
      "source": [
        "\"h\" and \"k\" in me"
      ],
      "metadata": {
        "colab": {
          "base_uri": "https://localhost:8080/"
        },
        "id": "-Im3DaSjn9ng",
        "outputId": "703275d1-d736-4692-cf38-58fabed0a89b"
      },
      "execution_count": 89,
      "outputs": [
        {
          "output_type": "execute_result",
          "data": {
            "text/plain": [
              "True"
            ]
          },
          "metadata": {},
          "execution_count": 89
        }
      ]
    },
    {
      "cell_type": "code",
      "source": [
        " if \"k&h\" in me:\n",
        "  print(\"yes\")\n",
        "else:\n",
        "  print(\"NO, adding it\")\n",
        "  me =me+ [\"k&h\"]"
      ],
      "metadata": {
        "colab": {
          "base_uri": "https://localhost:8080/"
        },
        "id": "OhVD-ETNoC9K",
        "outputId": "bec4ac86-7af8-4e77-cd39-2731d05245a4"
      },
      "execution_count": 87,
      "outputs": [
        {
          "output_type": "stream",
          "name": "stdout",
          "text": [
            "NO, adding it\n"
          ]
        }
      ]
    },
    {
      "cell_type": "code",
      "source": [
        "me"
      ],
      "metadata": {
        "colab": {
          "base_uri": "https://localhost:8080/"
        },
        "id": "wYcvOOfpotXo",
        "outputId": "7254c7a8-5b21-4fae-bbcc-91f62b536c93"
      },
      "execution_count": 88,
      "outputs": [
        {
          "output_type": "execute_result",
          "data": {
            "text/plain": [
              "['k', 'h', 'k&h']"
            ]
          },
          "metadata": {},
          "execution_count": 88
        }
      ]
    },
    {
      "cell_type": "markdown",
      "source": [
        "MIN and MAX value in a list"
      ],
      "metadata": {
        "id": "neJfhOIjsfW1"
      }
    },
    {
      "cell_type": "code",
      "source": [
        "i=[12,4,9,24,5]\n",
        "max(i)"
      ],
      "metadata": {
        "colab": {
          "base_uri": "https://localhost:8080/"
        },
        "id": "ZPhnZWwsoui3",
        "outputId": "abf724e4-fa16-4980-ea0d-7f0966e1588f"
      },
      "execution_count": 94,
      "outputs": [
        {
          "output_type": "execute_result",
          "data": {
            "text/plain": [
              "24"
            ]
          },
          "metadata": {},
          "execution_count": 94
        }
      ]
    },
    {
      "cell_type": "code",
      "source": [
        "i=(\"sam\",\"rahul\",\"z\")\n",
        "max(i)"
      ],
      "metadata": {
        "colab": {
          "base_uri": "https://localhost:8080/",
          "height": 36
        },
        "id": "9_bKj4rErTIB",
        "outputId": "9fbc20c3-d4fb-4eea-c9b3-56a49ebbbc2a"
      },
      "execution_count": 96,
      "outputs": [
        {
          "output_type": "execute_result",
          "data": {
            "text/plain": [
              "'z'"
            ],
            "application/vnd.google.colaboratory.intrinsic+json": {
              "type": "string"
            }
          },
          "metadata": {},
          "execution_count": 96
        }
      ]
    },
    {
      "cell_type": "code",
      "source": [
        " min(i)"
      ],
      "metadata": {
        "colab": {
          "base_uri": "https://localhost:8080/",
          "height": 36
        },
        "id": "BuC2-umCsZOr",
        "outputId": "760b267c-7f15-4bd2-d490-56cc7fbc2c04"
      },
      "execution_count": 97,
      "outputs": [
        {
          "output_type": "execute_result",
          "data": {
            "text/plain": [
              "'rahul'"
            ],
            "application/vnd.google.colaboratory.intrinsic+json": {
              "type": "string"
            }
          },
          "metadata": {},
          "execution_count": 97
        }
      ]
    },
    {
      "cell_type": "code",
      "source": [
        "name =(\"hashir\",\"kea\", \"maaz\",\"zala\")\n",
        "longe=0\n",
        "result=\"\"\n",
        "for i in name:\n",
        "  print(i,len(i))\n",
        "  if len(i)> longe:\n",
        "    longe = len(i)\n",
        "    result  = i\n",
        "print(f\"result : {longe} name : {result}\")"
      ],
      "metadata": {
        "colab": {
          "base_uri": "https://localhost:8080/"
        },
        "id": "IDoK9SEStHKS",
        "outputId": "6a5b8a6f-b8d1-4539-a855-6039523b4834"
      },
      "execution_count": 99,
      "outputs": [
        {
          "output_type": "stream",
          "name": "stdout",
          "text": [
            "hashir 6\n",
            "kea 3\n",
            "maaz 4\n",
            "zala 4\n",
            "result : 6 name : hashir\n"
          ]
        }
      ]
    },
    {
      "cell_type": "code",
      "source": [
        "name =(\"hashir\",\"kea\", \"maaz\",\"zala\",\"zolo\",\"cristinao\")\n",
        "lenth=0\n",
        "breath=\"\"\n",
        "for i in name:\n",
        "  print(i,len(i))\n",
        "  if len(i)>lenth :\n",
        "   lenth=len(i)\n",
        "   breath=i\n",
        "print(f\"breath : {lenth} and lenth : {breath}\")"
      ],
      "metadata": {
        "colab": {
          "base_uri": "https://localhost:8080/"
        },
        "id": "qou7Vverwqv_",
        "outputId": "407ae73b-fce4-42b9-b1c3-f66cbe766781"
      },
      "execution_count": 102,
      "outputs": [
        {
          "output_type": "stream",
          "name": "stdout",
          "text": [
            "hashir 6\n",
            "kea 3\n",
            "maaz 4\n",
            "zala 4\n",
            "zolo 4\n",
            "cristinao 9\n",
            "breath : 9 and lenth : cristinao\n"
          ]
        }
      ]
    },
    {
      "cell_type": "code",
      "source": [
        "name =(\"hashir\",\"kea\",\"APJabdulKalam\", \"maaz\",\"zala\",\"zimbambe\",)\n",
        "l=0\n",
        "b=\"\"\n",
        "for i in name:\n",
        "  print(i,len(i))\n",
        "  if len(i)>l:\n",
        "     l=len(i)\n",
        "     b=i\n",
        "\n",
        "print(f\"breath : {l} and length : {b}\")"
      ],
      "metadata": {
        "colab": {
          "base_uri": "https://localhost:8080/"
        },
        "id": "Dl4A5rRNy7LU",
        "outputId": "9da351e9-b1ad-40c3-b2ea-46d56f706230"
      },
      "execution_count": 111,
      "outputs": [
        {
          "output_type": "stream",
          "name": "stdout",
          "text": [
            "hashir 6\n",
            "kea 3\n",
            "APJabdulKalam 13\n",
            "maaz 4\n",
            "zala 4\n",
            "zimbambe 8\n",
            "breath : 13 and length : APJabdulKalam\n"
          ]
        }
      ]
    },
    {
      "cell_type": "code",
      "source": [
        "name =(\"hashir\",\"kea\",\"APJabdulKalam\", \"maaz\",\"zala\",\"zimbambe\",\"zaza\")\n",
        "lin=0\n",
        "bre=\"\"\n",
        "for i in name:\n",
        "  print(i,len(i))\n",
        "  if len(i)>lin:\n",
        "    lin=len(i)\n",
        "    bre=i\n",
        "  print(f\"breath : {bre}, and lenthg : {lin}\")\n"
      ],
      "metadata": {
        "colab": {
          "base_uri": "https://localhost:8080/",
          "height": 218
        },
        "id": "PZKKP-Ju0Lrq",
        "outputId": "cb116a18-f75e-429b-d64d-e83977f90230"
      },
      "execution_count": 118,
      "outputs": [
        {
          "output_type": "error",
          "ename": "TypeError",
          "evalue": "'int' object is not callable",
          "traceback": [
            "\u001b[0;31m---------------------------------------------------------------------------\u001b[0m",
            "\u001b[0;31mTypeError\u001b[0m                                 Traceback (most recent call last)",
            "\u001b[0;32m<ipython-input-118-3af85c23d429>\u001b[0m in \u001b[0;36m<cell line: 0>\u001b[0;34m()\u001b[0m\n\u001b[1;32m      3\u001b[0m \u001b[0mbre\u001b[0m\u001b[0;34m=\u001b[0m\u001b[0;34m\"\"\u001b[0m\u001b[0;34m\u001b[0m\u001b[0;34m\u001b[0m\u001b[0m\n\u001b[1;32m      4\u001b[0m \u001b[0;32mfor\u001b[0m \u001b[0mi\u001b[0m \u001b[0;32min\u001b[0m \u001b[0mname\u001b[0m\u001b[0;34m:\u001b[0m\u001b[0;34m\u001b[0m\u001b[0;34m\u001b[0m\u001b[0m\n\u001b[0;32m----> 5\u001b[0;31m   \u001b[0mprint\u001b[0m\u001b[0;34m(\u001b[0m\u001b[0mi\u001b[0m\u001b[0;34m,\u001b[0m\u001b[0mlen\u001b[0m\u001b[0;34m(\u001b[0m\u001b[0mi\u001b[0m\u001b[0;34m)\u001b[0m\u001b[0;34m)\u001b[0m\u001b[0;34m\u001b[0m\u001b[0;34m\u001b[0m\u001b[0m\n\u001b[0m\u001b[1;32m      6\u001b[0m   \u001b[0;32mif\u001b[0m \u001b[0mlen\u001b[0m\u001b[0;34m(\u001b[0m\u001b[0mi\u001b[0m\u001b[0;34m)\u001b[0m\u001b[0;34m>\u001b[0m\u001b[0mlin\u001b[0m\u001b[0;34m:\u001b[0m\u001b[0;34m\u001b[0m\u001b[0;34m\u001b[0m\u001b[0m\n\u001b[1;32m      7\u001b[0m     \u001b[0mlin\u001b[0m\u001b[0;34m=\u001b[0m\u001b[0mlen\u001b[0m\u001b[0;34m(\u001b[0m\u001b[0mi\u001b[0m\u001b[0;34m)\u001b[0m\u001b[0;34m\u001b[0m\u001b[0;34m\u001b[0m\u001b[0m\n",
            "\u001b[0;31mTypeError\u001b[0m: 'int' object is not callable"
          ]
        }
      ]
    },
    {
      "cell_type": "code",
      "source": [
        "del (len)"
      ],
      "metadata": {
        "id": "DlvLXN4-2_2R"
      },
      "execution_count": 119,
      "outputs": []
    },
    {
      "cell_type": "code",
      "source": [
        "name =(\"hashir\",\"kea\",\"APJabdulKalam\", \"maaz\",\"zala\",\"zimbambe\",\"zaza\")\n",
        "lin=0\n",
        "bre=\"\"\n",
        "for i in name:\n",
        "  print(i,len(i))\n",
        "  if len(i)>lin:\n",
        "    lin=len(i)\n",
        "    bre=i\n",
        "print(f\"breath : {bre}, and lenthg : {lin}\")"
      ],
      "metadata": {
        "colab": {
          "base_uri": "https://localhost:8080/"
        },
        "id": "Y0gJHKHP4gp_",
        "outputId": "4866d5cd-b800-47c2-fd8e-b9edade43075"
      },
      "execution_count": 121,
      "outputs": [
        {
          "output_type": "stream",
          "name": "stdout",
          "text": [
            "hashir 6\n",
            "kea 3\n",
            "APJabdulKalam 13\n",
            "maaz 4\n",
            "zala 4\n",
            "zimbambe 8\n",
            "zaza 4\n",
            "breath : APJabdulKalam, and lenthg : 13\n"
          ]
        }
      ]
    },
    {
      "cell_type": "markdown",
      "source": [
        " append and pop() method\n"
      ],
      "metadata": {
        "id": "wo8Th4VO4y2Y"
      }
    },
    {
      "cell_type": "code",
      "source": [
        " name.append(\"keia\")\n",
        "\n",
        "name"
      ],
      "metadata": {
        "colab": {
          "base_uri": "https://localhost:8080/",
          "height": 182
        },
        "id": "NLw5FoRx4jqC",
        "outputId": "c97a9d89-c033-4135-ac34-06fe607100d3"
      },
      "execution_count": 123,
      "outputs": [
        {
          "output_type": "error",
          "ename": "AttributeError",
          "evalue": "'tuple' object has no attribute 'append'",
          "traceback": [
            "\u001b[0;31m---------------------------------------------------------------------------\u001b[0m",
            "\u001b[0;31mAttributeError\u001b[0m                            Traceback (most recent call last)",
            "\u001b[0;32m<ipython-input-123-3df66b926f1d>\u001b[0m in \u001b[0;36m<cell line: 0>\u001b[0;34m()\u001b[0m\n\u001b[0;32m----> 1\u001b[0;31m \u001b[0mname\u001b[0m\u001b[0;34m.\u001b[0m\u001b[0mappend\u001b[0m\u001b[0;34m(\u001b[0m\u001b[0;34m\"keia\"\u001b[0m\u001b[0;34m)\u001b[0m\u001b[0;34m\u001b[0m\u001b[0;34m\u001b[0m\u001b[0m\n\u001b[0m\u001b[1;32m      2\u001b[0m \u001b[0;34m\u001b[0m\u001b[0m\n\u001b[1;32m      3\u001b[0m \u001b[0mname\u001b[0m\u001b[0;34m\u001b[0m\u001b[0;34m\u001b[0m\u001b[0m\n",
            "\u001b[0;31mAttributeError\u001b[0m: 'tuple' object has no attribute 'append'"
          ]
        }
      ]
    },
    {
      "cell_type": "code",
      "source": [
        "a=(1,2,3)\n",
        "a.append[4]"
      ],
      "metadata": {
        "colab": {
          "base_uri": "https://localhost:8080/",
          "height": 164
        },
        "id": "17jeE5bR48_V",
        "outputId": "382b2655-a699-42cd-b980-f5d99002abf4"
      },
      "execution_count": 128,
      "outputs": [
        {
          "output_type": "error",
          "ename": "AttributeError",
          "evalue": "'tuple' object has no attribute 'append'",
          "traceback": [
            "\u001b[0;31m---------------------------------------------------------------------------\u001b[0m",
            "\u001b[0;31mAttributeError\u001b[0m                            Traceback (most recent call last)",
            "\u001b[0;32m<ipython-input-128-869fa801f19d>\u001b[0m in \u001b[0;36m<cell line: 0>\u001b[0;34m()\u001b[0m\n\u001b[1;32m      1\u001b[0m \u001b[0ma\u001b[0m\u001b[0;34m=\u001b[0m\u001b[0;34m(\u001b[0m\u001b[0;36m1\u001b[0m\u001b[0;34m,\u001b[0m\u001b[0;36m2\u001b[0m\u001b[0;34m,\u001b[0m\u001b[0;36m3\u001b[0m\u001b[0;34m)\u001b[0m\u001b[0;34m\u001b[0m\u001b[0;34m\u001b[0m\u001b[0m\n\u001b[0;32m----> 2\u001b[0;31m \u001b[0ma\u001b[0m\u001b[0;34m.\u001b[0m\u001b[0mappend\u001b[0m\u001b[0;34m[\u001b[0m\u001b[0;36m4\u001b[0m\u001b[0;34m]\u001b[0m\u001b[0;34m\u001b[0m\u001b[0;34m\u001b[0m\u001b[0m\n\u001b[0m",
            "\u001b[0;31mAttributeError\u001b[0m: 'tuple' object has no attribute 'append'"
          ]
        }
      ]
    },
    {
      "cell_type": "code",
      "source": [
        "a.append[4]"
      ],
      "metadata": {
        "colab": {
          "base_uri": "https://localhost:8080/",
          "height": 146
        },
        "id": "OIX5Bd0r5OKT",
        "outputId": "6c4b0699-5929-4b41-fedf-cba474dcaa4e"
      },
      "execution_count": 127,
      "outputs": [
        {
          "output_type": "error",
          "ename": "AttributeError",
          "evalue": "'tuple' object has no attribute 'append'",
          "traceback": [
            "\u001b[0;31m---------------------------------------------------------------------------\u001b[0m",
            "\u001b[0;31mAttributeError\u001b[0m                            Traceback (most recent call last)",
            "\u001b[0;32m<ipython-input-127-575adca9467c>\u001b[0m in \u001b[0;36m<cell line: 0>\u001b[0;34m()\u001b[0m\n\u001b[0;32m----> 1\u001b[0;31m \u001b[0ma\u001b[0m\u001b[0;34m.\u001b[0m\u001b[0mappend\u001b[0m\u001b[0;34m[\u001b[0m\u001b[0;36m4\u001b[0m\u001b[0;34m]\u001b[0m\u001b[0;34m\u001b[0m\u001b[0;34m\u001b[0m\u001b[0m\n\u001b[0m",
            "\u001b[0;31mAttributeError\u001b[0m: 'tuple' object has no attribute 'append'"
          ]
        }
      ]
    },
    {
      "cell_type": "code",
      "source": [
        "a = [1, 2, 3]  # list\n",
        "a.append(7)    # ✅ Now this works\n",
        "print(a)"
      ],
      "metadata": {
        "colab": {
          "base_uri": "https://localhost:8080/"
        },
        "id": "fMuUl6Em5SC0",
        "outputId": "cc237b27-ab44-494d-d0d0-94d1cd846ced"
      },
      "execution_count": 132,
      "outputs": [
        {
          "output_type": "stream",
          "name": "stdout",
          "text": [
            "[1, 2, 3, 7]\n"
          ]
        }
      ]
    },
    {
      "cell_type": "code",
      "source": [
        "a.append(9)\n",
        "\n",
        "a"
      ],
      "metadata": {
        "colab": {
          "base_uri": "https://localhost:8080/"
        },
        "id": "_xbPv_x05o5x",
        "outputId": "786c5aea-dd19-46f5-f7b7-d81f5b03687d"
      },
      "execution_count": 134,
      "outputs": [
        {
          "output_type": "execute_result",
          "data": {
            "text/plain": [
              "[1, 2, 3, 7, 9, 9]"
            ]
          },
          "metadata": {},
          "execution_count": 134
        }
      ]
    },
    {
      "cell_type": "code",
      "source": [
        "a.pop(1)"
      ],
      "metadata": {
        "colab": {
          "base_uri": "https://localhost:8080/"
        },
        "id": "6khvmka15-j9",
        "outputId": "f7f2fc51-1a6b-40a1-f3b2-f285b359b2a0"
      },
      "execution_count": 136,
      "outputs": [
        {
          "output_type": "execute_result",
          "data": {
            "text/plain": [
              "2"
            ]
          },
          "metadata": {},
          "execution_count": 136
        }
      ]
    },
    {
      "cell_type": "code",
      "source": [
        "a"
      ],
      "metadata": {
        "colab": {
          "base_uri": "https://localhost:8080/"
        },
        "id": "2Tmrc5hL6je5",
        "outputId": "ce62e58e-8464-4a52-fbd8-429862e6bacb"
      },
      "execution_count": 137,
      "outputs": [
        {
          "output_type": "execute_result",
          "data": {
            "text/plain": [
              "[1, 3, 7, 9, 9]"
            ]
          },
          "metadata": {},
          "execution_count": 137
        }
      ]
    },
    {
      "cell_type": "code",
      "source": [
        "A=[1,34,56,76,99]\n",
        "for i in A:\n",
        "  print(len(str(i)))\n",
        "  if len(str(i))%2==0:\n",
        "    print(\"even num\")\n",
        "else:\n",
        "    print(\"odd num\")"
      ],
      "metadata": {
        "colab": {
          "base_uri": "https://localhost:8080/"
        },
        "id": "z7vEz4_06o9G",
        "outputId": "52124e0d-6281-4b56-fbff-4dad65e390f6"
      },
      "execution_count": 144,
      "outputs": [
        {
          "output_type": "stream",
          "name": "stdout",
          "text": [
            "1\n",
            "2\n",
            "even num\n",
            "2\n",
            "even num\n",
            "2\n",
            "even num\n",
            "2\n",
            "even num\n",
            "odd num\n"
          ]
        }
      ]
    },
    {
      "cell_type": "code",
      "source": [
        "A = [1, 34, 56, 76, 99]\n",
        "\n",
        "for i in A:\n",
        "    print(i,len(str(i)))\n",
        "    if i % 2 == 0:\n",
        "        print(\"even number\")\n",
        "    else:\n",
        "        print(\"odd number\")\n"
      ],
      "metadata": {
        "colab": {
          "base_uri": "https://localhost:8080/"
        },
        "id": "bKkeCDL7IfBB",
        "outputId": "8dc6dcf5-2b0e-4598-f286-d31f13f523c9"
      },
      "execution_count": 146,
      "outputs": [
        {
          "output_type": "stream",
          "name": "stdout",
          "text": [
            "1 1\n",
            "odd number\n",
            "34 2\n",
            "even number\n",
            "56 2\n",
            "even number\n",
            "76 2\n",
            "even number\n",
            "99 2\n",
            "odd number\n"
          ]
        }
      ]
    },
    {
      "cell_type": "code",
      "source": [
        "A = [1, 34, 56, 76, 99]\n",
        "\n",
        "for i in A:\n",
        "    print(i)\n",
        "    if i % 2 == 0:\n",
        "        print(\"even number\")\n",
        "    else:\n",
        "        print(\"odd number\")\n"
      ],
      "metadata": {
        "colab": {
          "base_uri": "https://localhost:8080/"
        },
        "id": "NPpJOGS6Jqi0",
        "outputId": "8837a514-7dfe-4d66-b94e-54d007281542"
      },
      "execution_count": 147,
      "outputs": [
        {
          "output_type": "stream",
          "name": "stdout",
          "text": [
            "1\n",
            "odd number\n",
            "34\n",
            "even number\n",
            "56\n",
            "even number\n",
            "76\n",
            "even number\n",
            "99\n",
            "odd number\n"
          ]
        }
      ]
    },
    {
      "cell_type": "markdown",
      "source": [
        "sorted method"
      ],
      "metadata": {
        "id": "bBYpG60SKPxC"
      }
    },
    {
      "cell_type": "code",
      "source": [
        "a"
      ],
      "metadata": {
        "colab": {
          "base_uri": "https://localhost:8080/"
        },
        "id": "6h8EimokJ_3x",
        "outputId": "ca5127d2-62a7-489a-ae55-f1031fba7ad3"
      },
      "execution_count": 148,
      "outputs": [
        {
          "output_type": "execute_result",
          "data": {
            "text/plain": [
              "[1, 3, 7, 9, 9]"
            ]
          },
          "metadata": {},
          "execution_count": 148
        }
      ]
    },
    {
      "cell_type": "code",
      "source": [
        "a.sort()"
      ],
      "metadata": {
        "id": "NJTxOv9OKeSS"
      },
      "execution_count": 149,
      "outputs": []
    },
    {
      "cell_type": "code",
      "source": [
        "a"
      ],
      "metadata": {
        "colab": {
          "base_uri": "https://localhost:8080/"
        },
        "id": "B4qUlWP0KhNR",
        "outputId": "654c6631-a726-43cc-f6a5-de4afe699a8c"
      },
      "execution_count": 150,
      "outputs": [
        {
          "output_type": "execute_result",
          "data": {
            "text/plain": [
              "[1, 3, 7, 9, 9]"
            ]
          },
          "metadata": {},
          "execution_count": 150
        }
      ]
    },
    {
      "cell_type": "code",
      "source": [
        "a=[255,67,2,86,8,5,-8,6,8,5,]\n",
        "sorted(a)"
      ],
      "metadata": {
        "colab": {
          "base_uri": "https://localhost:8080/"
        },
        "id": "Gx7mGOsUKh2g",
        "outputId": "a0f1ee88-a738-4645-bb05-1a41747d0420"
      },
      "execution_count": 151,
      "outputs": [
        {
          "output_type": "execute_result",
          "data": {
            "text/plain": [
              "[-8, 2, 5, 5, 6, 8, 8, 67, 86, 255]"
            ]
          },
          "metadata": {},
          "execution_count": 151
        }
      ]
    },
    {
      "cell_type": "code",
      "source": [
        "a"
      ],
      "metadata": {
        "colab": {
          "base_uri": "https://localhost:8080/"
        },
        "id": "QcZ6TxE8K-pJ",
        "outputId": "3d7bf538-eabf-46f0-caff-0d1cf423ca6d"
      },
      "execution_count": 152,
      "outputs": [
        {
          "output_type": "execute_result",
          "data": {
            "text/plain": [
              "[255, 67, 2, 86, 8, 5, -8, 6, 8, 5]"
            ]
          },
          "metadata": {},
          "execution_count": 152
        }
      ]
    },
    {
      "cell_type": "code",
      "source": [
        "a.sort()"
      ],
      "metadata": {
        "id": "gj_CXM7kLAfl"
      },
      "execution_count": 153,
      "outputs": []
    },
    {
      "cell_type": "code",
      "source": [
        "a"
      ],
      "metadata": {
        "colab": {
          "base_uri": "https://localhost:8080/"
        },
        "id": "3IWtg09ZLB96",
        "outputId": "26fe2dad-d645-40a3-ef4e-cdaf5dd141f2"
      },
      "execution_count": 154,
      "outputs": [
        {
          "output_type": "execute_result",
          "data": {
            "text/plain": [
              "[-8, 2, 5, 5, 6, 8, 8, 67, 86, 255]"
            ]
          },
          "metadata": {},
          "execution_count": 154
        }
      ]
    },
    {
      "cell_type": "code",
      "source": [
        "a=a[::-1]"
      ],
      "metadata": {
        "id": "EHKI9LL9LCkL"
      },
      "execution_count": 156,
      "outputs": []
    },
    {
      "cell_type": "code",
      "source": [
        "a"
      ],
      "metadata": {
        "colab": {
          "base_uri": "https://localhost:8080/"
        },
        "id": "hRenWFjyLJNc",
        "outputId": "88ddf991-6955-442b-f531-c0ec21a1e673"
      },
      "execution_count": 157,
      "outputs": [
        {
          "output_type": "execute_result",
          "data": {
            "text/plain": [
              "[255, 86, 67, 8, 8, 6, 5, 5, 2, -8]"
            ]
          },
          "metadata": {},
          "execution_count": 157
        }
      ]
    },
    {
      "cell_type": "code",
      "source": [
        "a.reverse()\n"
      ],
      "metadata": {
        "id": "W7Sx4zrdLOM1"
      },
      "execution_count": 160,
      "outputs": []
    },
    {
      "cell_type": "code",
      "source": [
        "a"
      ],
      "metadata": {
        "colab": {
          "base_uri": "https://localhost:8080/"
        },
        "id": "0xgzerSqLP3j",
        "outputId": "80d8239f-3e4c-4a86-c204-08fb4daf9e23"
      },
      "execution_count": 161,
      "outputs": [
        {
          "output_type": "execute_result",
          "data": {
            "text/plain": [
              "[-8, 2, 5, 5, 6, 8, 8, 67, 86, 255]"
            ]
          },
          "metadata": {},
          "execution_count": 161
        }
      ]
    },
    {
      "cell_type": "code",
      "source": [],
      "metadata": {
        "id": "iaQXkt9jLRUm"
      },
      "execution_count": null,
      "outputs": []
    }
  ]
}