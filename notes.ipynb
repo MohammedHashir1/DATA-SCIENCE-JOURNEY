{
 "cells": [
  {
   "cell_type": "code",
   "execution_count": 1,
   "id": "2a66134b",
   "metadata": {},
   "outputs": [
    {
     "name": "stdout",
     "output_type": "stream",
     "text": [
      "hi from jupyterNotebook\n"
     ]
    }
   ],
   "source": [
    "print(\"hi from jupyterNotebook\")"
   ]
  },
  {
   "cell_type": "code",
   "execution_count": 2,
   "id": "0a0c7758",
   "metadata": {},
   "outputs": [
    {
     "name": "stdout",
     "output_type": "stream",
     "text": [
      "Gaurav, known for his role in Anupamaa, impressed the judges with his consistent performances throughout the season. In the finale, his signature dish won hearts not only for its taste and presentation but also for the emotional story he shared about his journey from Kanpur. His heartfelt moment moved the judges, who embraced him after the results were announced.\n",
      "\n",
      "“Celebrity MasterChef” premiered on January 27, 2025, and wrapped up its first season on April 11. In the grand finale, Nikki Tamboli was declared the first runner-up, while Tejasswi Prakash secured the third position. Faisal Shaikh and Rajiv Adatia rounded off the top five finalists.\n",
      "\n",
      "From mastering technical challenges to nailing intricate desserts like the now-viral honeycomb pavlova, Gaurav’s culinary evolution has been noteworthy. His journey on the show showcased not just his acting prowess, but also a surprising talent in the kitchen, earning him praise from both fans and food critics alike.\n",
      "\n",
      "\n",
      "The finale was judged by renowned chef Sanjeev Kapoor, who joined celebrity chefs Vikas Khanna and Ranveer Brar in tasting and evaluating the finalists’ final dishes. The competition was fierce, but Gaurav stood out for his innovation, technique and emotional connection to food.\n",
      "\n",
      "Get HDFC ERGO's Enhanced Health Protection @ Just ₹27/day\n",
      "HDFC ERGO General Insurance\n",
      "Get HDFC ERGO's Enhanced Health Protection @ Just ₹27/day\n",
      "Ad\n",
      "The show, hosted by the charismatic Farah Khan, has been a rollercoaster of drama, laughter, and delicious moments. The star-studded contestant list included Ayesha Jhulka, Abhijeet Sawant, Usha Nadkarni, Archana Gautam, Chandan Prabhakar, Kabita Singh and Dipika Kakar, among others.\n",
      "\n",
      "With Gaurav’s win, the inaugural season of Celebrity MasterChef has ended on a high note, leaving fans with memories of heartwarming stories, culinary surprises and unforgettable television moments.\n"
     ]
    }
   ],
   "source": [
    "print(\"\"\"Gaurav, known for his role in Anupamaa, impressed the judges with his consistent performances throughout the season. In the finale, his signature dish won hearts not only for its taste and presentation but also for the emotional story he shared about his journey from Kanpur. His heartfelt moment moved the judges, who embraced him after the results were announced.\n",
    "\n",
    "“Celebrity MasterChef” premiered on January 27, 2025, and wrapped up its first season on April 11. In the grand finale, Nikki Tamboli was declared the first runner-up, while Tejasswi Prakash secured the third position. Faisal Shaikh and Rajiv Adatia rounded off the top five finalists.\n",
    "\n",
    "From mastering technical challenges to nailing intricate desserts like the now-viral honeycomb pavlova, Gaurav’s culinary evolution has been noteworthy. His journey on the show showcased not just his acting prowess, but also a surprising talent in the kitchen, earning him praise from both fans and food critics alike.\n",
    "\n",
    "\n",
    "The finale was judged by renowned chef Sanjeev Kapoor, who joined celebrity chefs Vikas Khanna and Ranveer Brar in tasting and evaluating the finalists’ final dishes. The competition was fierce, but Gaurav stood out for his innovation, technique and emotional connection to food.\n",
    "\n",
    "Get HDFC ERGO's Enhanced Health Protection @ Just ₹27/day\n",
    "HDFC ERGO General Insurance\n",
    "Get HDFC ERGO's Enhanced Health Protection @ Just ₹27/day\n",
    "Ad\n",
    "The show, hosted by the charismatic Farah Khan, has been a rollercoaster of drama, laughter, and delicious moments. The star-studded contestant list included Ayesha Jhulka, Abhijeet Sawant, Usha Nadkarni, Archana Gautam, Chandan Prabhakar, Kabita Singh and Dipika Kakar, among others.\n",
    "\n",
    "With Gaurav’s win, the inaugural season of Celebrity MasterChef has ended on a high note, leaving fans with memories of heartwarming stories, culinary surprises and unforgettable television moments.\"\"\")"
   ]
  },
  {
   "cell_type": "code",
   "execution_count": 3,
   "id": "3708969c",
   "metadata": {},
   "outputs": [],
   "source": [
    "##the Header"
   ]
  },
  {
   "cell_type": "code",
   "execution_count": 4,
   "id": "5704bffe",
   "metadata": {},
   "outputs": [
    {
     "data": {
      "text/plain": [
       "'hi\\nfrom jupyter\\n\\nnote book\\n'"
      ]
     },
     "execution_count": 4,
     "metadata": {},
     "output_type": "execute_result"
    }
   ],
   "source": [
    "#MULTI LINE COMMENTS\n",
    "\"\"\"hi\n",
    "from jupyter\n",
    "\n",
    "note book\n",
    "\"\"\"     "
   ]
  },
  {
   "cell_type": "code",
   "execution_count": 5,
   "id": "ac0289dd",
   "metadata": {},
   "outputs": [
    {
     "name": "stdout",
     "output_type": "stream",
     "text": [
      "The sum is: 4\n"
     ]
    }
   ],
   "source": [
    "###header VARIABLES\n",
    "a = 2\n",
    "b = 2\n",
    "sum = a + b\n",
    "print(\"The sum is:\", sum)"
   ]
  },
  {
   "cell_type": "code",
   "execution_count": 6,
   "id": "2f342462",
   "metadata": {},
   "outputs": [
    {
     "data": {
      "text/plain": [
       "2455"
      ]
     },
     "execution_count": 6,
     "metadata": {},
     "output_type": "execute_result"
    }
   ],
   "source": [
    "# CALCULATOR\n",
    "123+2332"
   ]
  },
  {
   "cell_type": "code",
   "execution_count": 7,
   "id": "68e117f5",
   "metadata": {},
   "outputs": [
    {
     "data": {
      "text/plain": [
       "4"
      ]
     },
     "execution_count": 7,
     "metadata": {},
     "output_type": "execute_result"
    }
   ],
   "source": [
    "2+2    "
   ]
  },
  {
   "cell_type": "code",
   "execution_count": 8,
   "id": "8469306a",
   "metadata": {},
   "outputs": [
    {
     "data": {
      "text/plain": [
       "556"
      ]
     },
     "execution_count": 8,
     "metadata": {},
     "output_type": "execute_result"
    }
   ],
   "source": [
    "1+555"
   ]
  },
  {
   "cell_type": "code",
   "execution_count": 9,
   "id": "707f9bd0",
   "metadata": {},
   "outputs": [],
   "source": [
    "number_ten=10\n",
    "TENNUMBER=29"
   ]
  },
  {
   "cell_type": "code",
   "execution_count": 10,
   "id": "e8f8d425",
   "metadata": {},
   "outputs": [
    {
     "name": "stdout",
     "output_type": "stream",
     "text": [
      "data types\n"
     ]
    }
   ],
   "source": [
    "print(\"\"\"data types\"\"\")\n",
    "float=1.2\n",
    "integer=2\n",
    "complexnumbers=2+3j\n",
    "string='hello_world'"
   ]
  },
  {
   "cell_type": "markdown",
   "id": "aca0f277",
   "metadata": {},
   "source": [
    "STRONGTYPING\n"
   ]
  },
  {
   "cell_type": "code",
   "execution_count": 11,
   "id": "4d2ec59e",
   "metadata": {},
   "outputs": [
    {
     "name": "stdout",
     "output_type": "stream",
     "text": [
      "Hi welcome to the first class of python language\n"
     ]
    }
   ],
   "source": [
    "#f -> formatted string method\n",
    "language =\"python\"\n",
    "num=\"first\"\n",
    "print(f\"Hi welcome to the \"+num+\" class of \"+language+\" language\")"
   ]
  },
  {
   "cell_type": "code",
   "execution_count": 12,
   "id": "eb6070fe",
   "metadata": {},
   "outputs": [
    {
     "name": "stdout",
     "output_type": "stream",
     "text": [
      "the sum of a:22 and b:45 is c:67\n"
     ]
    }
   ],
   "source": [
    "a = 22\n",
    "b =45\n",
    "c= a+b\n",
    "print(f\"the sum of a:{a} and b:{b} is c:{c}\")"
   ]
  },
  {
   "cell_type": "markdown",
   "id": "395fb5dd",
   "metadata": {},
   "source": [
    "\n",
    "BOOLEAN "
   ]
  },
  {
   "cell_type": "code",
   "execution_count": 13,
   "id": "4009da1f",
   "metadata": {},
   "outputs": [
    {
     "name": "stdout",
     "output_type": "stream",
     "text": [
      "did i came at time?:False\n"
     ]
    }
   ],
   "source": [
    "class_start_at=1200\n",
    "you_came_at=2400\n",
    "did_i_came_at_time= class_start_at > you_came_at\n",
    "print(f\"did i came at time?:{did_i_came_at_time}\")"
   ]
  },
  {
   "cell_type": "code",
   "execution_count": null,
   "id": "74a4d4ee",
   "metadata": {},
   "outputs": [],
   "source": []
  }
 ],
 "metadata": {
  "kernelspec": {
   "display_name": "env1",
   "language": "python",
   "name": "python3"
  },
  "language_info": {
   "codemirror_mode": {
    "name": "ipython",
    "version": 3
   },
   "file_extension": ".py",
   "mimetype": "text/x-python",
   "name": "python",
   "nbconvert_exporter": "python",
   "pygments_lexer": "ipython3",
   "version": "3.13.2"
  }
 },
 "nbformat": 4,
 "nbformat_minor": 5
}
