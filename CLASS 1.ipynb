{
 "cells": [
  {
   "cell_type": "code",
   "execution_count": 2,
   "id": "5439e9df",
   "metadata": {},
   "outputs": [
    {
     "name": "stdout",
     "output_type": "stream",
     "text": [
      "hi from jupyterNotebook\n"
     ]
    }
   ],
   "source": [
    "print(\"hi from jupyterNotebook\")\n"
   ]
  },
  {
   "cell_type": "code",
   "execution_count": 3,
   "id": "f88f24e7",
   "metadata": {},
   "outputs": [
    {
     "name": "stdout",
     "output_type": "stream",
     "text": [
      "Gaurav, known for his role in Anupamaa, impressed the judges with his consistent performances throughout the season. In the finale, his signature dish won hearts not only for its taste and presentation but also for the emotional story he shared about his journey from Kanpur. His heartfelt moment moved the judges, who embraced him after the results were announced.\n",
      "\n",
      "“Celebrity MasterChef” premiered on January 27, 2025, and wrapped up its first season on April 11. In the grand finale, Nikki Tamboli was declared the first runner-up, while Tejasswi Prakash secured the third position. Faisal Shaikh and Rajiv Adatia rounded off the top five finalists.\n",
      "\n",
      "From mastering technical challenges to nailing intricate desserts like the now-viral honeycomb pavlova, Gaurav’s culinary evolution has been noteworthy. His journey on the show showcased not just his acting prowess, but also a surprising talent in the kitchen, earning him praise from both fans and food critics alike.\n",
      "\n",
      "\n",
      "The finale was judged by renowned chef Sanjeev Kapoor, who joined celebrity chefs Vikas Khanna and Ranveer Brar in tasting and evaluating the finalists’ final dishes. The competition was fierce, but Gaurav stood out for his innovation, technique and emotional connection to food.\n",
      "\n",
      "Get HDFC ERGO's Enhanced Health Protection @ Just ₹27/day\n",
      "HDFC ERGO General Insurance\n",
      "Get HDFC ERGO's Enhanced Health Protection @ Just ₹27/day\n",
      "Ad\n",
      "The show, hosted by the charismatic Farah Khan, has been a rollercoaster of drama, laughter, and delicious moments. The star-studded contestant list included Ayesha Jhulka, Abhijeet Sawant, Usha Nadkarni, Archana Gautam, Chandan Prabhakar, Kabita Singh and Dipika Kakar, among others.\n",
      "\n",
      "With Gaurav’s win, the inaugural season of Celebrity MasterChef has ended on a high note, leaving fans with memories of heartwarming stories, culinary surprises and unforgettable television moments.\n"
     ]
    }
   ],
   "source": [
    "print(\"\"\"Gaurav, known for his role in Anupamaa, impressed the judges with his consistent performances throughout the season. In the finale, his signature dish won hearts not only for its taste and presentation but also for the emotional story he shared about his journey from Kanpur. His heartfelt moment moved the judges, who embraced him after the results were announced.\n",
    "\n",
    "“Celebrity MasterChef” premiered on January 27, 2025, and wrapped up its first season on April 11. In the grand finale, Nikki Tamboli was declared the first runner-up, while Tejasswi Prakash secured the third position. Faisal Shaikh and Rajiv Adatia rounded off the top five finalists.\n",
    "\n",
    "From mastering technical challenges to nailing intricate desserts like the now-viral honeycomb pavlova, Gaurav’s culinary evolution has been noteworthy. His journey on the show showcased not just his acting prowess, but also a surprising talent in the kitchen, earning him praise from both fans and food critics alike.\n",
    "\n",
    "\n",
    "The finale was judged by renowned chef Sanjeev Kapoor, who joined celebrity chefs Vikas Khanna and Ranveer Brar in tasting and evaluating the finalists’ final dishes. The competition was fierce, but Gaurav stood out for his innovation, technique and emotional connection to food.\n",
    "\n",
    "Get HDFC ERGO's Enhanced Health Protection @ Just ₹27/day\n",
    "HDFC ERGO General Insurance\n",
    "Get HDFC ERGO's Enhanced Health Protection @ Just ₹27/day\n",
    "Ad\n",
    "The show, hosted by the charismatic Farah Khan, has been a rollercoaster of drama, laughter, and delicious moments. The star-studded contestant list included Ayesha Jhulka, Abhijeet Sawant, Usha Nadkarni, Archana Gautam, Chandan Prabhakar, Kabita Singh and Dipika Kakar, among others.\n",
    "\n",
    "With Gaurav’s win, the inaugural season of Celebrity MasterChef has ended on a high note, leaving fans with memories of heartwarming stories, culinary surprises and unforgettable television moments.\"\"\")"
   ]
  },
  {
   "cell_type": "markdown",
   "id": "eb27127f",
   "metadata": {},
   "source": [
    "MULTILINE STATEMENT"
   ]
  },
  {
   "cell_type": "code",
   "execution_count": 5,
   "id": "44dc47a9",
   "metadata": {},
   "outputs": [
    {
     "name": "stdout",
     "output_type": "stream",
     "text": [
      "hi\n",
      "from jupyter\n",
      "\n",
      "note book\n",
      "\n"
     ]
    }
   ],
   "source": [
    "print(\"\"\"hi\n",
    "from jupyter\n",
    "\n",
    "note book\n",
    "\"\"\"     )"
   ]
  },
  {
   "cell_type": "markdown",
   "id": "30f714b2",
   "metadata": {},
   "source": [
    "VARIABLES"
   ]
  },
  {
   "cell_type": "code",
   "execution_count": 6,
   "id": "a9d0d7dc",
   "metadata": {},
   "outputs": [
    {
     "name": "stdout",
     "output_type": "stream",
     "text": [
      "The sum is: 4\n"
     ]
    }
   ],
   "source": [
    "a = 2\n",
    "b = 2\n",
    "sum = a + b\n",
    "print(\"The sum is:\", sum)"
   ]
  },
  {
   "cell_type": "markdown",
   "id": "faa5bf23",
   "metadata": {},
   "source": [
    "CALCULATOR\n"
   ]
  },
  {
   "cell_type": "code",
   "execution_count": 7,
   "id": "32e427c5",
   "metadata": {},
   "outputs": [
    {
     "data": {
      "text/plain": [
       "5"
      ]
     },
     "execution_count": 7,
     "metadata": {},
     "output_type": "execute_result"
    }
   ],
   "source": [
    "2+3"
   ]
  },
  {
   "cell_type": "code",
   "execution_count": 8,
   "id": "3a24bc26",
   "metadata": {},
   "outputs": [
    {
     "data": {
      "text/plain": [
       "5660"
      ]
     },
     "execution_count": 8,
     "metadata": {},
     "output_type": "execute_result"
    }
   ],
   "source": [
    "4+5656"
   ]
  },
  {
   "cell_type": "code",
   "execution_count": 9,
   "id": "93aa5f42",
   "metadata": {},
   "outputs": [
    {
     "data": {
      "text/plain": [
       "18"
      ]
     },
     "execution_count": 9,
     "metadata": {},
     "output_type": "execute_result"
    }
   ],
   "source": [
    "22-4"
   ]
  },
  {
   "cell_type": "markdown",
   "id": "c6928b63",
   "metadata": {},
   "source": [
    "DATA TYPES"
   ]
  },
  {
   "cell_type": "code",
   "execution_count": 10,
   "id": "9c9cfa20",
   "metadata": {},
   "outputs": [
    {
     "name": "stdout",
     "output_type": "stream",
     "text": [
      "data types\n"
     ]
    }
   ],
   "source": [
    "print(\"\"\"data types\"\"\")\n",
    "float=1.2\n",
    "integer=2\n",
    "complexnumbers=2+3j\n",
    "string='hello_world'"
   ]
  },
  {
   "cell_type": "markdown",
   "id": "b6e79ee0",
   "metadata": {},
   "source": [
    "STRONGTYPING\n"
   ]
  },
  {
   "cell_type": "code",
   "execution_count": 11,
   "id": "fc6a6547",
   "metadata": {},
   "outputs": [
    {
     "name": "stdout",
     "output_type": "stream",
     "text": [
      "Hi welcome to the first class of python language\n"
     ]
    }
   ],
   "source": [
    "#f -> formatted string method\n",
    "language =\"python\"\n",
    "num=\"first\"\n",
    "print(f\"Hi welcome to the \"+num+\" class of \"+language+\" language\")"
   ]
  },
  {
   "cell_type": "code",
   "execution_count": 12,
   "id": "07571c2e",
   "metadata": {},
   "outputs": [
    {
     "name": "stdout",
     "output_type": "stream",
     "text": [
      "the sum of a:22 and b:45 is c:67\n"
     ]
    }
   ],
   "source": [
    "a = 22\n",
    "b =45\n",
    "c= a+b\n",
    "print(f\"the sum of a:{a} and b:{b} is c:{c}\")"
   ]
  },
  {
   "cell_type": "markdown",
   "id": "5c0df866",
   "metadata": {},
   "source": [
    "\n",
    "BOOLEAN "
   ]
  },
  {
   "cell_type": "code",
   "execution_count": 13,
   "id": "31d6c7d1",
   "metadata": {},
   "outputs": [
    {
     "name": "stdout",
     "output_type": "stream",
     "text": [
      "did i came at time?:False\n"
     ]
    }
   ],
   "source": [
    "class_start_at=1200\n",
    "you_came_at=2400\n",
    "did_i_came_at_time= class_start_at > you_came_at\n",
    "print(f\"did i came at time?:{did_i_came_at_time}\")"
   ]
  }
 ],
 "metadata": {
  "kernelspec": {
   "display_name": "env1",
   "language": "python",
   "name": "python3"
  },
  "language_info": {
   "codemirror_mode": {
    "name": "ipython",
    "version": 3
   },
   "file_extension": ".py",
   "mimetype": "text/x-python",
   "name": "python",
   "nbconvert_exporter": "python",
   "pygments_lexer": "ipython3",
   "version": "3.13.2"
  }
 },
 "nbformat": 4,
 "nbformat_minor": 5
}
