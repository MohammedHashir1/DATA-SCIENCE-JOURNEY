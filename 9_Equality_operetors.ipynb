{
  "nbformat": 4,
  "nbformat_minor": 0,
  "metadata": {
    "colab": {
      "provenance": [],
      "authorship_tag": "ABX9TyNJs4Z4uaa/SXwrTDUKAfXM",
      "include_colab_link": true
    },
    "kernelspec": {
      "name": "python3",
      "display_name": "Python 3"
    },
    "language_info": {
      "name": "python"
    }
  },
  "cells": [
    {
      "cell_type": "markdown",
      "metadata": {
        "id": "view-in-github",
        "colab_type": "text"
      },
      "source": [
        "<a href=\"https://colab.research.google.com/github/MohammedHashir1/DATA-SCIENCE-JOURNEY/blob/main/9_Equality_operetors.ipynb\" target=\"_parent\"><img src=\"https://colab.research.google.com/assets/colab-badge.svg\" alt=\"Open In Colab\"/></a>"
      ]
    },
    {
      "cell_type": "markdown",
      "source": [
        "Is operator\n",
        "\n",
        "1. is        A is not B =>\n",
        "2. is not    A is not B\n",
        "3. ==        A==B\n",
        "4. !=        A!=B\n"
      ],
      "metadata": {
        "id": "_ASXxtjOEzxt"
      }
    },
    {
      "cell_type": "code",
      "source": [
        "a=1\n",
        "b=1\n",
        "if a is b:\n",
        "  print(\"yes its same\")\n",
        "else:\n",
        "    print(\"no its not\")"
      ],
      "metadata": {
        "colab": {
          "base_uri": "https://localhost:8080/"
        },
        "id": "xcPwrJkCEONI",
        "outputId": "a2236bf7-2c94-40d1-9350-fbf087bd4fad"
      },
      "execution_count": 2,
      "outputs": [
        {
          "output_type": "stream",
          "name": "stdout",
          "text": [
            "yes its same\n"
          ]
        }
      ]
    },
    {
      "cell_type": "code",
      "source": [
        "a=1\n",
        "b=1\n",
        "if a is not b:\n",
        "  print(\"yes its same\")\n",
        "else:\n",
        "    print(\"no its not\")"
      ],
      "metadata": {
        "colab": {
          "base_uri": "https://localhost:8080/"
        },
        "id": "ugWWio9OHW35",
        "outputId": "ebbe87c9-9978-4ebc-a101-772427350297"
      },
      "execution_count": 4,
      "outputs": [
        {
          "output_type": "stream",
          "name": "stdout",
          "text": [
            "no its not\n"
          ]
        }
      ]
    },
    {
      "cell_type": "code",
      "source": [
        "a=1\n",
        "b=1\n",
        "if a is not b:\n",
        "  print(\"yes its same\")\n",
        "else:\n",
        "    print(\"no its not\")"
      ],
      "metadata": {
        "colab": {
          "base_uri": "https://localhost:8080/"
        },
        "id": "zWklVR0EHds6",
        "outputId": "9d69162e-b79d-4a28-9261-ffcac8a37905"
      },
      "execution_count": 7,
      "outputs": [
        {
          "output_type": "stream",
          "name": "stdout",
          "text": [
            "no its not\n"
          ]
        }
      ]
    },
    {
      "cell_type": "code",
      "source": [
        "a=1\n",
        "b=2\n",
        "if a is  b:\n",
        "  print(\"yes its same\")\n",
        "else:\n",
        "    print(\"no its not\")"
      ],
      "metadata": {
        "colab": {
          "base_uri": "https://localhost:8080/"
        },
        "id": "iLr2pNURIPUL",
        "outputId": "3dd20189-dc25-40bf-86c3-82c0c7062867"
      },
      "execution_count": 6,
      "outputs": [
        {
          "output_type": "stream",
          "name": "stdout",
          "text": [
            "no its not\n"
          ]
        }
      ]
    },
    {
      "cell_type": "code",
      "source": [
        "a=1\n",
        "b=1\n",
        "if a == b:\n",
        "  print(\"yes its same\")\n",
        "else:\n",
        "    print(\"no its not\")"
      ],
      "metadata": {
        "colab": {
          "base_uri": "https://localhost:8080/"
        },
        "id": "gxtH8sEaIQyq",
        "outputId": "8a13c57f-1d77-4d66-90d9-aafa1161a925"
      },
      "execution_count": 8,
      "outputs": [
        {
          "output_type": "stream",
          "name": "stdout",
          "text": [
            "yes its same\n"
          ]
        }
      ]
    },
    {
      "cell_type": "code",
      "source": [
        "a=1\n",
        "b=1\n",
        "if a != b:\n",
        "  print(\"yes its same\")\n",
        "else:\n",
        "    print(\"no its not\")"
      ],
      "metadata": {
        "colab": {
          "base_uri": "https://localhost:8080/"
        },
        "id": "l9pBprjwIgFv",
        "outputId": "adeba978-2674-47ac-cd68-a9c69e4e9b00"
      },
      "execution_count": 9,
      "outputs": [
        {
          "output_type": "stream",
          "name": "stdout",
          "text": [
            "no its not\n"
          ]
        }
      ]
    },
    {
      "cell_type": "code",
      "source": [
        "a=\"sunny\"\n",
        "b= \"sunny\"\n",
        "a is b\n"
      ],
      "metadata": {
        "colab": {
          "base_uri": "https://localhost:8080/"
        },
        "id": "yTHiM0p6Iliv",
        "outputId": "199a788d-07cc-49ca-c4bf-ddcd9ae2da21"
      },
      "execution_count": 10,
      "outputs": [
        {
          "output_type": "execute_result",
          "data": {
            "text/plain": [
              "True"
            ]
          },
          "metadata": {},
          "execution_count": 10
        }
      ]
    },
    {
      "cell_type": "code",
      "source": [
        "a=\"sunny\",\"rishab\"\n",
        "b= \"sunny\",\"rishab\"\n",
        "a is b"
      ],
      "metadata": {
        "colab": {
          "base_uri": "https://localhost:8080/"
        },
        "id": "EJXW-PCDJJMW",
        "outputId": "026715ce-171a-4bcb-af18-0ea7788c2d87"
      },
      "execution_count": 11,
      "outputs": [
        {
          "output_type": "execute_result",
          "data": {
            "text/plain": [
              "False"
            ]
          },
          "metadata": {},
          "execution_count": 11
        }
      ]
    },
    {
      "cell_type": "code",
      "source": [
        "id (a),\n",
        "\n",
        "\n",
        "id(b)"
      ],
      "metadata": {
        "colab": {
          "base_uri": "https://localhost:8080/"
        },
        "id": "0SjhEHGbJX79",
        "outputId": "956065bd-43ae-4540-a08b-0133fd5fa040"
      },
      "execution_count": 14,
      "outputs": [
        {
          "output_type": "execute_result",
          "data": {
            "text/plain": [
              "138407364968256"
            ]
          },
          "metadata": {},
          "execution_count": 14
        }
      ]
    },
    {
      "cell_type": "code",
      "source": [
        "a=int(input(\"enter a number:\"))\n",
        "b=int(input(\"enter a number:\"))\n",
        "a is b"
      ],
      "metadata": {
        "colab": {
          "base_uri": "https://localhost:8080/"
        },
        "id": "9M7jwfYqJr6d",
        "outputId": "71baf5e5-5a52-46ce-b71c-c5350a4516f1"
      },
      "execution_count": 16,
      "outputs": [
        {
          "name": "stdout",
          "output_type": "stream",
          "text": [
            "enter a number:1\n",
            "enter a number:1\n"
          ]
        },
        {
          "output_type": "execute_result",
          "data": {
            "text/plain": [
              "True"
            ]
          },
          "metadata": {},
          "execution_count": 16
        }
      ]
    },
    {
      "cell_type": "code",
      "source": [
        "name =input(\"enter you id name:\")\n",
        "\n",
        "if name == \"hashir\":\n",
        "  print(\"id name is correct\")\n",
        "else:\n",
        "  print(\"incorrect id\")"
      ],
      "metadata": {
        "colab": {
          "base_uri": "https://localhost:8080/"
        },
        "id": "B4GxHSg6LBzw",
        "outputId": "faf15dc5-3404-4c11-a586-fb84c8e951fc"
      },
      "execution_count": 19,
      "outputs": [
        {
          "output_type": "stream",
          "name": "stdout",
          "text": [
            "enter you id name:hashir\n",
            "id name is correct\n"
          ]
        }
      ]
    },
    {
      "cell_type": "code",
      "source": [],
      "metadata": {
        "id": "dDyehHmELq9r"
      },
      "execution_count": null,
      "outputs": []
    }
  ]
}