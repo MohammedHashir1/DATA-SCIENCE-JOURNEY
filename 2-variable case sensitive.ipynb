{
 "cells": [
  {
   "cell_type": "code",
   "execution_count": 2,
   "id": "264249d9",
   "metadata": {},
   "outputs": [],
   "source": [
    "ten=10\n",
    "Ten=20\n",
    "TEN=30\n",
    "# ten,TEN,Ten these 3 are diffrent in terms of lower and uppercase letters\n"
   ]
  }
 ],
 "metadata": {
  "kernelspec": {
   "display_name": "env1",
   "language": "python",
   "name": "python3"
  },
  "language_info": {
   "codemirror_mode": {
    "name": "ipython",
    "version": 3
   },
   "file_extension": ".py",
   "mimetype": "text/x-python",
   "name": "python",
   "nbconvert_exporter": "python",
   "pygments_lexer": "ipython3",
   "version": "3.13.2"
  }
 },
 "nbformat": 4,
 "nbformat_minor": 5
}
