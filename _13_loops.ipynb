{
  "nbformat": 4,
  "nbformat_minor": 0,
  "metadata": {
    "colab": {
      "provenance": [],
      "authorship_tag": "ABX9TyO3yms3Wdbb8LoQYhuOhG1T",
      "include_colab_link": true
    },
    "kernelspec": {
      "name": "python3",
      "display_name": "Python 3"
    },
    "language_info": {
      "name": "python"
    }
  },
  "cells": [
    {
      "cell_type": "markdown",
      "metadata": {
        "id": "view-in-github",
        "colab_type": "text"
      },
      "source": [
        "<a href=\"https://colab.research.google.com/github/MohammedHashir1/DATA-SCIENCE-JOURNEY/blob/main/_13_loops.ipynb\" target=\"_parent\"><img src=\"https://colab.research.google.com/assets/colab-badge.svg\" alt=\"Open In Colab\"/></a>"
      ]
    },
    {
      "cell_type": "markdown",
      "source": [
        "# if amount greater than 999 give discount of 70/100\n",
        "#if less than or 999 and greater than 499 give discount of 80/100\n",
        "#if its more than 1499 give discount of 90/100\n",
        "# if less than 499 give no discount\n",
        "{use if elif else method}"
      ],
      "metadata": {
        "id": "jUSw-wtGO-MX"
      }
    },
    {
      "cell_type": "code",
      "execution_count": 6,
      "metadata": {
        "colab": {
          "base_uri": "https://localhost:8080/"
        },
        "id": "RCOfK-P2OK_S",
        "outputId": "b9e097b4-1782-4a30-9e8c-00a885db93c0"
      },
      "outputs": [
        {
          "output_type": "stream",
          "name": "stdout",
          "text": [
            " you got 80% off :770.0\n"
          ]
        }
      ],
      "source": [
        "Grocery_List=90+10+400+600\n",
        "if Grocery_List >=999:\n",
        "  Grocery_List= Grocery_List * 70/100\n",
        "  print(f\" you got 80% off :{Grocery_List}\")\n",
        "elif Grocery_List < 999 and Grocery_List >= 499 :\n",
        "    Grocery_List= Grocery_List * 80/100\n",
        "    print(f\" you got 80% off :{Grocery_List}\")\n",
        "else :\n",
        "      print(f\"no discount\")\n",
        ""
      ]
    },
    {
      "cell_type": "code",
      "source": [
        "Grocery_List=90+10+40\n",
        "if Grocery_List >=999:\n",
        "  Grocery_List= Grocery_List * 70/100\n",
        "  print(f\" you got 80% off :{Grocery_List}\")\n",
        "elif Grocery_List < 999 and Grocery_List >= 499 :\n",
        "    Grocery_List= Grocery_List * 80/100\n",
        "    print(f\" you got 80% off :{Grocery_List}\")\n",
        "else :\n",
        "      print(f\"no discount\")"
      ],
      "metadata": {
        "colab": {
          "base_uri": "https://localhost:8080/"
        },
        "id": "Pc-lAK4oShmF",
        "outputId": "a2a0b6a9-c083-4de9-ac2f-63e93a9c8918"
      },
      "execution_count": 7,
      "outputs": [
        {
          "output_type": "stream",
          "name": "stdout",
          "text": [
            "no discount\n"
          ]
        }
      ]
    },
    {
      "cell_type": "code",
      "source": [
        "Grocery_List=90+10+400\n",
        "if Grocery_List >=999:\n",
        "  Grocery_List= Grocery_List * 70/100\n",
        "  print(f\" you got 80% off :{Grocery_List}\")\n",
        "elif Grocery_List < 999 and Grocery_List >= 499 :\n",
        "    Grocery_List= Grocery_List * 80/100\n",
        "    print(f\" you got 80% off :{Grocery_List}\")\n",
        "else :\n",
        "      print(f\"no discount\")"
      ],
      "metadata": {
        "colab": {
          "base_uri": "https://localhost:8080/"
        },
        "id": "SJIDPWc9TjHE",
        "outputId": "899793ba-df29-444a-ee60-7234d95f4ad6"
      },
      "execution_count": 8,
      "outputs": [
        {
          "output_type": "stream",
          "name": "stdout",
          "text": [
            " you got 80% off :400.0\n"
          ]
        }
      ]
    },
    {
      "cell_type": "code",
      "source": [
        "Grocery_List=90+10+400+1600\n",
        "if Grocery_List >=1499:\n",
        "  Grocery_List= Grocery_List * 70/100\n",
        "  print(f\" you got 80% off :{Grocery_List}\")\n",
        "elif Grocery_List<1499:\n",
        "  Grocery_List=Grocery_List*90/100\n",
        "  print(f\" you got 90% off :{Grocery_List}\")\n",
        "\n",
        "\n",
        "else :\n",
        "      print(f\"no discount\")"
      ],
      "metadata": {
        "colab": {
          "base_uri": "https://localhost:8080/"
        },
        "id": "CuLUQHhGTlNS",
        "outputId": "49b0e6d8-fc8a-4117-e2b7-5c2be8c94d83"
      },
      "execution_count": 16,
      "outputs": [
        {
          "output_type": "stream",
          "name": "stdout",
          "text": [
            " you got 80% off :1470.0\n"
          ]
        }
      ]
    },
    {
      "cell_type": "markdown",
      "source": [
        "Nested if else"
      ],
      "metadata": {
        "id": "LWkimAgvWyqH"
      }
    },
    {
      "cell_type": "code",
      "source": [
        "number=float(input(\"enter a number: \"))\n",
        "if number<=0:\n",
        "  print(f\"the number is zero\")\n",
        "if number> 0 :\n",
        "  print(f\"the number is positive\")\n",
        "else:\n",
        "    print(\"the number is negative\")\n",
        "\n"
      ],
      "metadata": {
        "colab": {
          "base_uri": "https://localhost:8080/"
        },
        "id": "G7I4rpv1WyHc",
        "outputId": "af7e0043-1301-4333-d31d-2cf4faf27022"
      },
      "execution_count": 19,
      "outputs": [
        {
          "output_type": "stream",
          "name": "stdout",
          "text": [
            "enter a number: 5\n",
            "the number is positive\n"
          ]
        }
      ]
    },
    {
      "cell_type": "markdown",
      "source": [
        "SINGLE LINE IF ELSE\n",
        "\n",
        "print 90 if the number is greater than 99"
      ],
      "metadata": {
        "id": "YkGLFCQuYGh6"
      }
    },
    {
      "cell_type": "code",
      "source": [
        "number=float(input(\"enter any number : \"))\n",
        "if number>=99:\n",
        "  print(f\"yes\")"
      ],
      "metadata": {
        "colab": {
          "base_uri": "https://localhost:8080/"
        },
        "id": "2zdKVQcCUVK7",
        "outputId": "eef78592-7f3d-4a64-a27a-67c6aca67d12"
      },
      "execution_count": 23,
      "outputs": [
        {
          "name": "stdout",
          "output_type": "stream",
          "text": [
            "enter any number : 5\n"
          ]
        }
      ]
    },
    {
      "cell_type": "markdown",
      "source": [
        "while Loop"
      ],
      "metadata": {
        "id": "V4ORwSg1mO6E"
      }
    },
    {
      "cell_type": "code",
      "source": [
        "note=5\n",
        "i=1\n",
        "while i<=note:\n",
        "  print(f\"the sum of : {i*2}\")\n",
        "  i=i+1"
      ],
      "metadata": {
        "colab": {
          "base_uri": "https://localhost:8080/"
        },
        "id": "xstTJGjsnFAH",
        "outputId": "1a5ccfef-a8f9-43ea-e785-a7c2496bab74"
      },
      "execution_count": 29,
      "outputs": [
        {
          "output_type": "stream",
          "name": "stdout",
          "text": [
            "the sum of : 2\n",
            "the sum of : 4\n",
            "the sum of : 6\n",
            "the sum of : 8\n",
            "the sum of : 10\n"
          ]
        }
      ]
    },
    {
      "cell_type": "code",
      "source": [
        "i=\n",
        "while i<=10:\n",
        "  i=i+1"
      ],
      "metadata": {
        "colab": {
          "base_uri": "https://localhost:8080/"
        },
        "id": "CCysKvgQp6Hp",
        "outputId": "c0e3171d-ec50-4394-d92c-d9706fbcfe0a"
      },
      "execution_count": 32,
      "outputs": [
        {
          "output_type": "stream",
          "name": "stdout",
          "text": [
            "count to 10: 0\n",
            "count to 10: 1\n",
            "count to 10: 2\n",
            "count to 10: 3\n",
            "count to 10: 4\n",
            "count to 10: 5\n",
            "count to 10: 6\n",
            "count to 10: 7\n",
            "count to 10: 8\n",
            "count to 10: 9\n",
            "count to 10: 10\n"
          ]
        }
      ]
    },
    {
      "cell_type": "code",
      "source": [
        "i = 0\n",
        "while i <= 20 :\n",
        "\n",
        "    print(f\"even numbers : {i}\")\n",
        "    i = i + 2\n"
      ],
      "metadata": {
        "colab": {
          "base_uri": "https://localhost:8080/"
        },
        "id": "23PJz265vM9e",
        "outputId": "0cde20cf-9234-4d45-d7af-27ae5a0f2bc6"
      },
      "execution_count": 57,
      "outputs": [
        {
          "output_type": "stream",
          "name": "stdout",
          "text": [
            "even numbers : 0\n",
            "even numbers : 2\n",
            "even numbers : 4\n",
            "even numbers : 6\n",
            "even numbers : 8\n",
            "even numbers : 10\n",
            "even numbers : 12\n",
            "even numbers : 14\n",
            "even numbers : 16\n",
            "even numbers : 18\n",
            "even numbers : 20\n"
          ]
        }
      ]
    },
    {
      "cell_type": "code",
      "source": [
        "i=50\n",
        "while i>=0:\n",
        "  if i % 5==0:\n",
        "    print(f\"reverse print : {i}\")\n",
        "  i-= 1"
      ],
      "metadata": {
        "colab": {
          "base_uri": "https://localhost:8080/"
        },
        "id": "T0Tu9wf7wmEI",
        "outputId": "53155164-e314-43c2-8ea6-f4b6da4efee0"
      },
      "execution_count": 66,
      "outputs": [
        {
          "output_type": "stream",
          "name": "stdout",
          "text": [
            "reverse print : 50\n",
            "reverse print : 45\n",
            "reverse print : 40\n",
            "reverse print : 35\n",
            "reverse print : 30\n",
            "reverse print : 25\n",
            "reverse print : 20\n",
            "reverse print : 15\n",
            "reverse print : 10\n",
            "reverse print : 5\n",
            "reverse print : 0\n"
          ]
        }
      ]
    },
    {
      "cell_type": "code",
      "source": [
        "i=0\n",
        "while i<=5:\n",
        "  print(f\"sum : {i}\")\n",
        "  i=i+1"
      ],
      "metadata": {
        "colab": {
          "base_uri": "https://localhost:8080/"
        },
        "id": "7Y1Xzp8rxOVt",
        "outputId": "0ae6e022-191c-4416-f1ac-e8c36071a787"
      },
      "execution_count": 67,
      "outputs": [
        {
          "output_type": "stream",
          "name": "stdout",
          "text": [
            "sum : 0\n",
            "sum : 1\n",
            "sum : 2\n",
            "sum : 3\n",
            "sum : 4\n",
            "sum : 5\n"
          ]
        }
      ]
    },
    {
      "cell_type": "code",
      "source": [
        "i=10\n",
        "while i>=0:\n",
        "\n",
        "   print(f\"revese : {i}\")\n",
        "   i=i-1"
      ],
      "metadata": {
        "colab": {
          "base_uri": "https://localhost:8080/"
        },
        "id": "5mf3W5VkzT46",
        "outputId": "fbf0caa4-6c9e-4310-89c6-3e4a6759fb58"
      },
      "execution_count": 77,
      "outputs": [
        {
          "output_type": "stream",
          "name": "stdout",
          "text": [
            "revese : 10\n",
            "revese : 9\n",
            "revese : 8\n",
            "revese : 7\n",
            "revese : 6\n",
            "revese : 5\n",
            "revese : 4\n",
            "revese : 3\n",
            "revese : 2\n",
            "revese : 1\n",
            "revese : 0\n"
          ]
        }
      ]
    },
    {
      "cell_type": "code",
      "source": [
        "i=0\n",
        "while i<=10:\n",
        "  print(f\"odd numbers : {i}\")\n",
        "  i=i+3"
      ],
      "metadata": {
        "colab": {
          "base_uri": "https://localhost:8080/"
        },
        "id": "ZiqBRLIyzbq5",
        "outputId": "577a8537-0208-4391-d50c-349a601cdb1f"
      },
      "execution_count": 78,
      "outputs": [
        {
          "output_type": "stream",
          "name": "stdout",
          "text": [
            "odd numbers : 0\n",
            "odd numbers : 3\n",
            "odd numbers : 6\n",
            "odd numbers : 9\n"
          ]
        }
      ]
    },
    {
      "cell_type": "code",
      "source": [
        "i=0\n",
        "while i<=5:\n",
        "  print(f\"odd numbers : {i}\")\n",
        "  i=i+1"
      ],
      "metadata": {
        "id": "_qpPWwLD0rTY",
        "outputId": "949bac1d-094e-4c33-a0b4-d40b6dfe46c6",
        "colab": {
          "base_uri": "https://localhost:8080/"
        }
      },
      "execution_count": 79,
      "outputs": [
        {
          "output_type": "stream",
          "name": "stdout",
          "text": [
            "odd numbers : 0\n",
            "odd numbers : 1\n",
            "odd numbers : 2\n",
            "odd numbers : 3\n",
            "odd numbers : 4\n",
            "odd numbers : 5\n"
          ]
        }
      ]
    },
    {
      "cell_type": "markdown",
      "source": [
        "While If Else loop"
      ],
      "metadata": {
        "id": "j31U70NP4xTW"
      }
    },
    {
      "cell_type": "code",
      "source": [
        "i=50\n",
        "while i>=0:\n",
        "  if i % 5==0:\n",
        "    print(f\"reverse print : {i}\")\n",
        "  i-= 1"
      ],
      "metadata": {
        "id": "oeu6euA40zRP",
        "outputId": "aa8bf796-3b8f-4a02-b46e-3197ea8da810",
        "colab": {
          "base_uri": "https://localhost:8080/"
        }
      },
      "execution_count": 80,
      "outputs": [
        {
          "output_type": "stream",
          "name": "stdout",
          "text": [
            "reverse print : 50\n",
            "reverse print : 45\n",
            "reverse print : 40\n",
            "reverse print : 35\n",
            "reverse print : 30\n",
            "reverse print : 25\n",
            "reverse print : 20\n",
            "reverse print : 15\n",
            "reverse print : 10\n",
            "reverse print : 5\n",
            "reverse print : 0\n"
          ]
        }
      ]
    },
    {
      "cell_type": "code",
      "source": [
        "user = int(input(\"Enter any number: \"))\n",
        "\n",
        "while user != 0:\n",
        "    if user % 2 == 0:\n",
        "        print(\"Even\")\n",
        "    else:\n",
        "        print(\"Odd\")\n",
        "    user = int(input(\"Enter any number: \"))\n",
        "\n",
        "print(\"Done!\")\n"
      ],
      "metadata": {
        "id": "RL2aF8mF6IH1",
        "outputId": "3d1883ee-7926-48ce-d8de-fd603bb3701b",
        "colab": {
          "base_uri": "https://localhost:8080/",
          "height": 332
        }
      },
      "execution_count": 87,
      "outputs": [
        {
          "name": "stdout",
          "output_type": "stream",
          "text": [
            "Enter any number: 4\n",
            "Even\n",
            "Enter any number: 5\n",
            "Odd\n",
            "Enter any number: 7\n",
            "Odd\n",
            "Enter any number: \\\n"
          ]
        },
        {
          "output_type": "error",
          "ename": "ValueError",
          "evalue": "invalid literal for int() with base 10: '\\\\'",
          "traceback": [
            "\u001b[0;31m---------------------------------------------------------------------------\u001b[0m",
            "\u001b[0;31mValueError\u001b[0m                                Traceback (most recent call last)",
            "\u001b[0;32m<ipython-input-87-30515dedafea>\u001b[0m in \u001b[0;36m<cell line: 0>\u001b[0;34m()\u001b[0m\n\u001b[1;32m      6\u001b[0m     \u001b[0;32melse\u001b[0m\u001b[0;34m:\u001b[0m\u001b[0;34m\u001b[0m\u001b[0;34m\u001b[0m\u001b[0m\n\u001b[1;32m      7\u001b[0m         \u001b[0mprint\u001b[0m\u001b[0;34m(\u001b[0m\u001b[0;34m\"Odd\"\u001b[0m\u001b[0;34m)\u001b[0m\u001b[0;34m\u001b[0m\u001b[0;34m\u001b[0m\u001b[0m\n\u001b[0;32m----> 8\u001b[0;31m     \u001b[0muser\u001b[0m \u001b[0;34m=\u001b[0m \u001b[0mint\u001b[0m\u001b[0;34m(\u001b[0m\u001b[0minput\u001b[0m\u001b[0;34m(\u001b[0m\u001b[0;34m\"Enter any number: \"\u001b[0m\u001b[0;34m)\u001b[0m\u001b[0;34m)\u001b[0m\u001b[0;34m\u001b[0m\u001b[0;34m\u001b[0m\u001b[0m\n\u001b[0m\u001b[1;32m      9\u001b[0m \u001b[0;34m\u001b[0m\u001b[0m\n\u001b[1;32m     10\u001b[0m \u001b[0mprint\u001b[0m\u001b[0;34m(\u001b[0m\u001b[0;34m\"Done!\"\u001b[0m\u001b[0;34m)\u001b[0m\u001b[0;34m\u001b[0m\u001b[0;34m\u001b[0m\u001b[0m\n",
            "\u001b[0;31mValueError\u001b[0m: invalid literal for int() with base 10: '\\\\'"
          ]
        }
      ]
    },
    {
      "cell_type": "code",
      "source": [
        "for i in range(0,10):\n",
        "  print(f\"10 X {i} = {10*i}\")"
      ],
      "metadata": {
        "id": "FUTbs89G6eO-",
        "outputId": "83e5c4ce-a6ca-4144-b474-017485137c23",
        "colab": {
          "base_uri": "https://localhost:8080/"
        }
      },
      "execution_count": 96,
      "outputs": [
        {
          "output_type": "stream",
          "name": "stdout",
          "text": [
            "10 X 0 = 0\n",
            "10 X 1 = 10\n",
            "10 X 2 = 20\n",
            "10 X 3 = 30\n",
            "10 X 4 = 40\n",
            "10 X 5 = 50\n",
            "10 X 6 = 60\n",
            "10 X 7 = 70\n",
            "10 X 8 = 80\n",
            "10 X 9 = 90\n"
          ]
        }
      ]
    },
    {
      "cell_type": "code",
      "source": [
        "for i in range(1,10):\n",
        "  print(\"*\"*i)"
      ],
      "metadata": {
        "id": "IAylgn2TBN4u",
        "outputId": "318aa79f-a96a-45da-8b3c-3cbb970e9d37",
        "colab": {
          "base_uri": "https://localhost:8080/"
        }
      },
      "execution_count": 100,
      "outputs": [
        {
          "output_type": "stream",
          "name": "stdout",
          "text": [
            "*\n",
            "**\n",
            "***\n",
            "****\n",
            "*****\n",
            "******\n",
            "*******\n",
            "********\n",
            "*********\n"
          ]
        }
      ]
    },
    {
      "cell_type": "code",
      "source": [
        "for hashir in range(0,24):\n",
        "  print(\"@#!$%^&*()_+\"*hashir)"
      ],
      "metadata": {
        "id": "0QxNFVc6CQTC",
        "outputId": "9af8daa7-1528-41e4-b525-7ccb10d01483",
        "colab": {
          "base_uri": "https://localhost:8080/"
        }
      },
      "execution_count": 103,
      "outputs": [
        {
          "output_type": "stream",
          "name": "stdout",
          "text": [
            "\n",
            "@#!$%^&*()_+\n",
            "@#!$%^&*()_+@#!$%^&*()_+\n",
            "@#!$%^&*()_+@#!$%^&*()_+@#!$%^&*()_+\n",
            "@#!$%^&*()_+@#!$%^&*()_+@#!$%^&*()_+@#!$%^&*()_+\n",
            "@#!$%^&*()_+@#!$%^&*()_+@#!$%^&*()_+@#!$%^&*()_+@#!$%^&*()_+\n",
            "@#!$%^&*()_+@#!$%^&*()_+@#!$%^&*()_+@#!$%^&*()_+@#!$%^&*()_+@#!$%^&*()_+\n",
            "@#!$%^&*()_+@#!$%^&*()_+@#!$%^&*()_+@#!$%^&*()_+@#!$%^&*()_+@#!$%^&*()_+@#!$%^&*()_+\n",
            "@#!$%^&*()_+@#!$%^&*()_+@#!$%^&*()_+@#!$%^&*()_+@#!$%^&*()_+@#!$%^&*()_+@#!$%^&*()_+@#!$%^&*()_+\n",
            "@#!$%^&*()_+@#!$%^&*()_+@#!$%^&*()_+@#!$%^&*()_+@#!$%^&*()_+@#!$%^&*()_+@#!$%^&*()_+@#!$%^&*()_+@#!$%^&*()_+\n",
            "@#!$%^&*()_+@#!$%^&*()_+@#!$%^&*()_+@#!$%^&*()_+@#!$%^&*()_+@#!$%^&*()_+@#!$%^&*()_+@#!$%^&*()_+@#!$%^&*()_+@#!$%^&*()_+\n",
            "@#!$%^&*()_+@#!$%^&*()_+@#!$%^&*()_+@#!$%^&*()_+@#!$%^&*()_+@#!$%^&*()_+@#!$%^&*()_+@#!$%^&*()_+@#!$%^&*()_+@#!$%^&*()_+@#!$%^&*()_+\n",
            "@#!$%^&*()_+@#!$%^&*()_+@#!$%^&*()_+@#!$%^&*()_+@#!$%^&*()_+@#!$%^&*()_+@#!$%^&*()_+@#!$%^&*()_+@#!$%^&*()_+@#!$%^&*()_+@#!$%^&*()_+@#!$%^&*()_+\n",
            "@#!$%^&*()_+@#!$%^&*()_+@#!$%^&*()_+@#!$%^&*()_+@#!$%^&*()_+@#!$%^&*()_+@#!$%^&*()_+@#!$%^&*()_+@#!$%^&*()_+@#!$%^&*()_+@#!$%^&*()_+@#!$%^&*()_+@#!$%^&*()_+\n",
            "@#!$%^&*()_+@#!$%^&*()_+@#!$%^&*()_+@#!$%^&*()_+@#!$%^&*()_+@#!$%^&*()_+@#!$%^&*()_+@#!$%^&*()_+@#!$%^&*()_+@#!$%^&*()_+@#!$%^&*()_+@#!$%^&*()_+@#!$%^&*()_+@#!$%^&*()_+\n",
            "@#!$%^&*()_+@#!$%^&*()_+@#!$%^&*()_+@#!$%^&*()_+@#!$%^&*()_+@#!$%^&*()_+@#!$%^&*()_+@#!$%^&*()_+@#!$%^&*()_+@#!$%^&*()_+@#!$%^&*()_+@#!$%^&*()_+@#!$%^&*()_+@#!$%^&*()_+@#!$%^&*()_+\n",
            "@#!$%^&*()_+@#!$%^&*()_+@#!$%^&*()_+@#!$%^&*()_+@#!$%^&*()_+@#!$%^&*()_+@#!$%^&*()_+@#!$%^&*()_+@#!$%^&*()_+@#!$%^&*()_+@#!$%^&*()_+@#!$%^&*()_+@#!$%^&*()_+@#!$%^&*()_+@#!$%^&*()_+@#!$%^&*()_+\n",
            "@#!$%^&*()_+@#!$%^&*()_+@#!$%^&*()_+@#!$%^&*()_+@#!$%^&*()_+@#!$%^&*()_+@#!$%^&*()_+@#!$%^&*()_+@#!$%^&*()_+@#!$%^&*()_+@#!$%^&*()_+@#!$%^&*()_+@#!$%^&*()_+@#!$%^&*()_+@#!$%^&*()_+@#!$%^&*()_+@#!$%^&*()_+\n",
            "@#!$%^&*()_+@#!$%^&*()_+@#!$%^&*()_+@#!$%^&*()_+@#!$%^&*()_+@#!$%^&*()_+@#!$%^&*()_+@#!$%^&*()_+@#!$%^&*()_+@#!$%^&*()_+@#!$%^&*()_+@#!$%^&*()_+@#!$%^&*()_+@#!$%^&*()_+@#!$%^&*()_+@#!$%^&*()_+@#!$%^&*()_+@#!$%^&*()_+\n",
            "@#!$%^&*()_+@#!$%^&*()_+@#!$%^&*()_+@#!$%^&*()_+@#!$%^&*()_+@#!$%^&*()_+@#!$%^&*()_+@#!$%^&*()_+@#!$%^&*()_+@#!$%^&*()_+@#!$%^&*()_+@#!$%^&*()_+@#!$%^&*()_+@#!$%^&*()_+@#!$%^&*()_+@#!$%^&*()_+@#!$%^&*()_+@#!$%^&*()_+@#!$%^&*()_+\n",
            "@#!$%^&*()_+@#!$%^&*()_+@#!$%^&*()_+@#!$%^&*()_+@#!$%^&*()_+@#!$%^&*()_+@#!$%^&*()_+@#!$%^&*()_+@#!$%^&*()_+@#!$%^&*()_+@#!$%^&*()_+@#!$%^&*()_+@#!$%^&*()_+@#!$%^&*()_+@#!$%^&*()_+@#!$%^&*()_+@#!$%^&*()_+@#!$%^&*()_+@#!$%^&*()_+@#!$%^&*()_+\n",
            "@#!$%^&*()_+@#!$%^&*()_+@#!$%^&*()_+@#!$%^&*()_+@#!$%^&*()_+@#!$%^&*()_+@#!$%^&*()_+@#!$%^&*()_+@#!$%^&*()_+@#!$%^&*()_+@#!$%^&*()_+@#!$%^&*()_+@#!$%^&*()_+@#!$%^&*()_+@#!$%^&*()_+@#!$%^&*()_+@#!$%^&*()_+@#!$%^&*()_+@#!$%^&*()_+@#!$%^&*()_+@#!$%^&*()_+\n",
            "@#!$%^&*()_+@#!$%^&*()_+@#!$%^&*()_+@#!$%^&*()_+@#!$%^&*()_+@#!$%^&*()_+@#!$%^&*()_+@#!$%^&*()_+@#!$%^&*()_+@#!$%^&*()_+@#!$%^&*()_+@#!$%^&*()_+@#!$%^&*()_+@#!$%^&*()_+@#!$%^&*()_+@#!$%^&*()_+@#!$%^&*()_+@#!$%^&*()_+@#!$%^&*()_+@#!$%^&*()_+@#!$%^&*()_+@#!$%^&*()_+\n",
            "@#!$%^&*()_+@#!$%^&*()_+@#!$%^&*()_+@#!$%^&*()_+@#!$%^&*()_+@#!$%^&*()_+@#!$%^&*()_+@#!$%^&*()_+@#!$%^&*()_+@#!$%^&*()_+@#!$%^&*()_+@#!$%^&*()_+@#!$%^&*()_+@#!$%^&*()_+@#!$%^&*()_+@#!$%^&*()_+@#!$%^&*()_+@#!$%^&*()_+@#!$%^&*()_+@#!$%^&*()_+@#!$%^&*()_+@#!$%^&*()_+@#!$%^&*()_+\n"
          ]
        }
      ]
    },
    {
      "cell_type": "code",
      "source": [
        "for i in range(1,10):\n",
        "  print(\"2\"*i)"
      ],
      "metadata": {
        "id": "96ajJel4C8ZD",
        "outputId": "c274a084-e5c8-4dad-b02c-4a9520985f3c",
        "colab": {
          "base_uri": "https://localhost:8080/"
        }
      },
      "execution_count": 104,
      "outputs": [
        {
          "output_type": "stream",
          "name": "stdout",
          "text": [
            "2\n",
            "22\n",
            "222\n",
            "2222\n",
            "22222\n",
            "222222\n",
            "2222222\n",
            "22222222\n",
            "222222222\n"
          ]
        }
      ]
    },
    {
      "cell_type": "code",
      "source": [
        "cost_of_items=(100,200,300,400)\n",
        "total_sum=0\n",
        "for i in range(0,4):\n",
        "   total_sum=total_sum + cost_of_items[i]\n",
        "print(f\"your total bill to be payed: {total_sum}\")"
      ],
      "metadata": {
        "id": "tb04fgLtDdPm",
        "outputId": "f2ef995e-1c7c-463a-b308-92013d287989",
        "colab": {
          "base_uri": "https://localhost:8080/"
        }
      },
      "execution_count": 1,
      "outputs": [
        {
          "output_type": "stream",
          "name": "stdout",
          "text": [
            "your total bill to be payed: 1000\n"
          ]
        }
      ]
    },
    {
      "cell_type": "markdown",
      "source": [
        "BREAK AND CONTINUE"
      ],
      "metadata": {
        "id": "77Rs2t6KjNQt"
      }
    },
    {
      "cell_type": "code",
      "source": [
        "for i in range(0,100):\n",
        " if i>24:\n",
        "   break\n",
        " print(i)"
      ],
      "metadata": {
        "id": "pbHWmpJnFE0I",
        "outputId": "3b1ef550-50ce-4e02-c7d8-cbbbbc3cbc25",
        "colab": {
          "base_uri": "https://localhost:8080/"
        }
      },
      "execution_count": 11,
      "outputs": [
        {
          "output_type": "stream",
          "name": "stdout",
          "text": [
            "0\n",
            "1\n",
            "2\n",
            "3\n",
            "4\n",
            "5\n",
            "6\n",
            "7\n",
            "8\n",
            "9\n",
            "10\n",
            "11\n",
            "12\n",
            "13\n",
            "14\n",
            "15\n",
            "16\n",
            "17\n",
            "18\n",
            "19\n",
            "20\n",
            "21\n",
            "22\n",
            "23\n",
            "24\n"
          ]
        }
      ]
    },
    {
      "cell_type": "code",
      "source": [
        "for i in range(0,25):\n",
        "  if i<=25 :\n",
        "    print(i)\n",
        "    continue"
      ],
      "metadata": {
        "id": "CWrLcZxRkGYP",
        "outputId": "e48cc77c-7786-46a9-d184-50d6105758f6",
        "colab": {
          "base_uri": "https://localhost:8080/"
        }
      },
      "execution_count": 12,
      "outputs": [
        {
          "output_type": "stream",
          "name": "stdout",
          "text": [
            "0\n",
            "1\n",
            "2\n",
            "3\n",
            "4\n",
            "5\n",
            "6\n",
            "7\n",
            "8\n",
            "9\n",
            "10\n",
            "11\n",
            "12\n",
            "13\n",
            "14\n",
            "15\n",
            "16\n",
            "17\n",
            "18\n",
            "19\n",
            "20\n",
            "21\n",
            "22\n",
            "23\n",
            "24\n"
          ]
        }
      ]
    },
    {
      "cell_type": "code",
      "source": [
        "for i in range(0,25):\n",
        "  if i%2==0 :\n",
        "    print(i)\n",
        "    continue"
      ],
      "metadata": {
        "id": "sIRi84OLmD6_",
        "outputId": "e9d79eff-fa28-4a6e-a573-35c5f312c1ee",
        "colab": {
          "base_uri": "https://localhost:8080/"
        }
      },
      "execution_count": 13,
      "outputs": [
        {
          "output_type": "stream",
          "name": "stdout",
          "text": [
            "0\n",
            "2\n",
            "4\n",
            "6\n",
            "8\n",
            "10\n",
            "12\n",
            "14\n",
            "16\n",
            "18\n",
            "20\n",
            "22\n",
            "24\n"
          ]
        }
      ]
    },
    {
      "cell_type": "code",
      "source": [
        "for i in range(0,25):\n",
        "  if i%2!=0 :\n",
        "    print(i)\n",
        "    continue"
      ],
      "metadata": {
        "id": "_2ksHo6pmNed",
        "outputId": "74446160-1518-4234-f1ee-39f7793b99d4",
        "colab": {
          "base_uri": "https://localhost:8080/"
        }
      },
      "execution_count": 14,
      "outputs": [
        {
          "output_type": "stream",
          "name": "stdout",
          "text": [
            "1\n",
            "3\n",
            "5\n",
            "7\n",
            "9\n",
            "11\n",
            "13\n",
            "15\n",
            "17\n",
            "19\n",
            "21\n",
            "23\n"
          ]
        }
      ]
    },
    {
      "cell_type": "code",
      "source": [
        "stations=(\"station 1\",\"stations 2\",\"station 3\",\"stations 4\")\n",
        "\n",
        "for current_station in stations:\n",
        "    print(f\"current station: {current_station}\")\n",
        "    if current_station==\"station 3\":\n",
        "      break"
      ],
      "metadata": {
        "id": "EIrrGEl1mWc6",
        "outputId": "41947768-fb50-411e-abab-f8d3f00cd5fe",
        "colab": {
          "base_uri": "https://localhost:8080/"
        }
      },
      "execution_count": 19,
      "outputs": [
        {
          "output_type": "stream",
          "name": "stdout",
          "text": [
            "current station: station 1\n",
            "current station: stations 2\n",
            "current station: station 3\n"
          ]
        }
      ]
    },
    {
      "cell_type": "code",
      "source": [
        "stations=(\"station 1\",\"stations 2\",\"station 3\",\"stations 4\")\n",
        "\n",
        "for current_station in stations:\n",
        "    print(f\"current station: {current_station}\")\n",
        "    if current_station==\"stations 2\":\n",
        "      break"
      ],
      "metadata": {
        "id": "nO9pEwqpq79u",
        "outputId": "01766e8f-cddd-4886-a357-3fa7f8c9b527",
        "colab": {
          "base_uri": "https://localhost:8080/"
        }
      },
      "execution_count": 21,
      "outputs": [
        {
          "output_type": "stream",
          "name": "stdout",
          "text": [
            "current station: station 1\n",
            "current station: stations 2\n"
          ]
        }
      ]
    },
    {
      "cell_type": "code",
      "source": [
        "stations=(\"station 1\",\"stations 2\",\"station 3\",\"stations 4\")\n",
        "\n",
        "for current_station in stations:\n",
        "\n",
        "    if current_station==\"station 1\":\n",
        "      continue\n",
        "    print(f\"current station: {current_station}\")"
      ],
      "metadata": {
        "id": "V3U8hENJyWJt",
        "outputId": "419a7358-c0e4-4cb6-e0d0-2a71d56bc982",
        "colab": {
          "base_uri": "https://localhost:8080/"
        }
      },
      "execution_count": 26,
      "outputs": [
        {
          "output_type": "stream",
          "name": "stdout",
          "text": [
            "current station: stations 2\n",
            "current station: station 3\n",
            "current station: stations 4\n"
          ]
        }
      ]
    },
    {
      "cell_type": "markdown",
      "source": [
        "REVISION"
      ],
      "metadata": {
        "id": "a34HcG-q04id"
      }
    },
    {
      "cell_type": "code",
      "source": [
        "a=100\n",
        "if a%2==0:\n",
        "  print(f\"its even \")\n",
        "else:\n",
        "  print(\"no the number is odd\")"
      ],
      "metadata": {
        "id": "imV77gA9yl1R",
        "outputId": "8bf850e3-d44d-47fd-88af-e328e3c27d9f",
        "colab": {
          "base_uri": "https://localhost:8080/"
        }
      },
      "execution_count": 27,
      "outputs": [
        {
          "output_type": "stream",
          "name": "stdout",
          "text": [
            "its even \n"
          ]
        }
      ]
    },
    {
      "cell_type": "code",
      "source": [
        "a=20\n",
        "if a*2==40:\n",
        " print(\"yes its correct\")\n",
        "else:\n",
        "  print(\"no its not\")"
      ],
      "metadata": {
        "id": "FdZslkPw1RJY",
        "outputId": "54b20113-bcd1-4467-e18e-fb2c144e12cb",
        "colab": {
          "base_uri": "https://localhost:8080/"
        }
      },
      "execution_count": 28,
      "outputs": [
        {
          "output_type": "stream",
          "name": "stdout",
          "text": [
            "yes its correct\n"
          ]
        }
      ]
    },
    {
      "cell_type": "code",
      "source": [
        "a=20\n",
        "if a*4==40:\n",
        " print(\"yes its correct\")\n",
        "elif a+20==40:\n",
        "  print(\"yes its correct because of addition\")\n",
        "else:\n",
        "  print(\"no its not\")"
      ],
      "metadata": {
        "id": "ioaSTSDW1pa4",
        "outputId": "ee66477b-a725-4007-ef29-1a9cacfbf14b",
        "colab": {
          "base_uri": "https://localhost:8080/"
        }
      },
      "execution_count": 31,
      "outputs": [
        {
          "output_type": "stream",
          "name": "stdout",
          "text": [
            "yes its correct because of addition\n"
          ]
        }
      ]
    },
    {
      "cell_type": "markdown",
      "source": [
        "school grades\n",
        "the students who got just 32 write you are just past\n",
        "the students who got 50 write average\n",
        "the students who got 75 write good\n",
        "the students who got 100 write execellent"
      ],
      "metadata": {
        "id": "mcuwBm7B2jiK"
      }
    },
    {
      "cell_type": "code",
      "source": [
        "marks=int(input(\"enter your marks : \"))\n",
        "if marks==33:\n",
        "  print(f\"you are just pass\")\n",
        "elif 33<marks<=50:\n",
        "  print(f\"you are average\")\n",
        "elif 50<marks<=75:\n",
        "  print(f\"you are good student\")\n",
        "elif 75<marks<=100:\n",
        "  print(f\"you have done an execellent work\")\n",
        "else:\n",
        "    print(f\"you failed in the exam\")"
      ],
      "metadata": {
        "id": "o_tz86RZ18Jo",
        "outputId": "e31b5433-cb11-4281-c571-9579990e6ccb",
        "colab": {
          "base_uri": "https://localhost:8080/"
        }
      },
      "execution_count": 35,
      "outputs": [
        {
          "output_type": "stream",
          "name": "stdout",
          "text": [
            "enter your marks : 49\n",
            "you are average\n"
          ]
        }
      ]
    },
    {
      "cell_type": "code",
      "source": [
        "i=int(input(\"enter a number : \"))\n",
        "if i>100:\n",
        "  print(f\"yes\")\n"
      ],
      "metadata": {
        "id": "HHt1McOi4WLb",
        "outputId": "b5671139-cfdd-40a7-c5bc-78097fa2f4b5",
        "colab": {
          "base_uri": "https://localhost:8080/"
        }
      },
      "execution_count": 46,
      "outputs": [
        {
          "output_type": "stream",
          "name": "stdout",
          "text": [
            "enter a number : 444\n",
            "yes\n"
          ]
        }
      ]
    },
    {
      "cell_type": "code",
      "source": [
        "a,b,c=1,2,3\n",
        "if a>b:\n",
        "  print(f\"yes a its greater\")\n",
        "if b>c:\n",
        "  print(f\"yes b its greater\")\n",
        "if c>a:\n",
        "  print(f\"yes c its greater\")"
      ],
      "metadata": {
        "id": "Cu9YhMFE5GJ_",
        "outputId": "7039fcc3-14cd-42d8-8cbd-256ecc7ab592",
        "colab": {
          "base_uri": "https://localhost:8080/"
        }
      },
      "execution_count": 47,
      "outputs": [
        {
          "output_type": "stream",
          "name": "stdout",
          "text": [
            "yes c its greater\n"
          ]
        }
      ]
    },
    {
      "cell_type": "code",
      "source": [
        "attendence=70\n",
        "assignment=40\n",
        "sport_player=True\n",
        "if attendence<=75 and assignment<=40:\n",
        "  if sport_player:\n",
        "    print(f\"yes eligible for exam\")\n",
        "else:\n",
        "  print(\"no the student is not eligible \")"
      ],
      "metadata": {
        "id": "I87-8VX76YGu",
        "outputId": "52985c92-8e97-41bf-aad6-dc0b4aa70000",
        "colab": {
          "base_uri": "https://localhost:8080/"
        }
      },
      "execution_count": 48,
      "outputs": [
        {
          "output_type": "stream",
          "name": "stdout",
          "text": [
            "yes eligible for exam\n"
          ]
        }
      ]
    },
    {
      "cell_type": "code",
      "source": [
        "marks=(100,200,300,400,500)\n",
        "cutoff=400\n",
        "while i[marks] <marks:\n",
        "  print(f\"my marks is :{i*marks}\")\n",
        "  i=i+1"
      ],
      "metadata": {
        "id": "xQEcxmL67y61",
        "outputId": "e5856c82-1d8b-4bfd-de98-f9f94909f4e5",
        "colab": {
          "base_uri": "https://localhost:8080/",
          "height": 211
        }
      },
      "execution_count": 51,
      "outputs": [
        {
          "output_type": "error",
          "ename": "TypeError",
          "evalue": "'int' object is not subscriptable",
          "traceback": [
            "\u001b[0;31m---------------------------------------------------------------------------\u001b[0m",
            "\u001b[0;31mTypeError\u001b[0m                                 Traceback (most recent call last)",
            "\u001b[0;32m<ipython-input-51-65e704c0fd5f>\u001b[0m in \u001b[0;36m<cell line: 0>\u001b[0;34m()\u001b[0m\n\u001b[1;32m      1\u001b[0m \u001b[0mmarks\u001b[0m\u001b[0;34m=\u001b[0m\u001b[0;34m(\u001b[0m\u001b[0;36m100\u001b[0m\u001b[0;34m,\u001b[0m\u001b[0;36m200\u001b[0m\u001b[0;34m,\u001b[0m\u001b[0;36m300\u001b[0m\u001b[0;34m,\u001b[0m\u001b[0;36m400\u001b[0m\u001b[0;34m,\u001b[0m\u001b[0;36m500\u001b[0m\u001b[0;34m)\u001b[0m\u001b[0;34m\u001b[0m\u001b[0;34m\u001b[0m\u001b[0m\n\u001b[1;32m      2\u001b[0m \u001b[0mcutoff\u001b[0m\u001b[0;34m=\u001b[0m\u001b[0;36m400\u001b[0m\u001b[0;34m\u001b[0m\u001b[0;34m\u001b[0m\u001b[0m\n\u001b[0;32m----> 3\u001b[0;31m \u001b[0;32mwhile\u001b[0m \u001b[0mi\u001b[0m\u001b[0;34m[\u001b[0m\u001b[0mmarks\u001b[0m\u001b[0;34m]\u001b[0m \u001b[0;34m<\u001b[0m\u001b[0mmarks\u001b[0m\u001b[0;34m:\u001b[0m\u001b[0;34m\u001b[0m\u001b[0;34m\u001b[0m\u001b[0m\n\u001b[0m\u001b[1;32m      4\u001b[0m   \u001b[0mprint\u001b[0m\u001b[0;34m(\u001b[0m\u001b[0;34mf\"my marks is :{i*marks}\"\u001b[0m\u001b[0;34m)\u001b[0m\u001b[0;34m\u001b[0m\u001b[0;34m\u001b[0m\u001b[0m\n\u001b[1;32m      5\u001b[0m   \u001b[0mi\u001b[0m\u001b[0;34m=\u001b[0m\u001b[0mi\u001b[0m\u001b[0;34m+\u001b[0m\u001b[0;36m1\u001b[0m\u001b[0;34m\u001b[0m\u001b[0;34m\u001b[0m\u001b[0m\n",
            "\u001b[0;31mTypeError\u001b[0m: 'int' object is not subscriptable"
          ]
        }
      ]
    },
    {
      "cell_type": "code",
      "source": [
        " i=0\n",
        " while i<=24:\n",
        "  print(\"hello\")\n",
        "  i=i+1"
      ],
      "metadata": {
        "id": "y3XVd3cg9y6v",
        "outputId": "b46d12e6-f0aa-40fb-a01b-797b7a949857",
        "colab": {
          "base_uri": "https://localhost:8080/"
        }
      },
      "execution_count": 55,
      "outputs": [
        {
          "output_type": "stream",
          "name": "stdout",
          "text": [
            "hello\n",
            "hello\n",
            "hello\n",
            "hello\n",
            "hello\n",
            "hello\n",
            "hello\n",
            "hello\n",
            "hello\n",
            "hello\n",
            "hello\n",
            "hello\n",
            "hello\n",
            "hello\n",
            "hello\n",
            "hello\n",
            "hello\n",
            "hello\n",
            "hello\n",
            "hello\n",
            "hello\n",
            "hello\n",
            "hello\n",
            "hello\n",
            "hello\n"
          ]
        }
      ]
    },
    {
      "cell_type": "code",
      "source": [
        "print(text.count(\"hello\"))"
      ],
      "metadata": {
        "id": "9uSI00o1Guwf",
        "outputId": "f6c7b313-3155-4cfc-a470-d3218e5e8497",
        "colab": {
          "base_uri": "https://localhost:8080/",
          "height": 158
        }
      },
      "execution_count": 57,
      "outputs": [
        {
          "output_type": "error",
          "ename": "TypeError",
          "evalue": "'int' object is not callable",
          "traceback": [
            "\u001b[0;31m---------------------------------------------------------------------------\u001b[0m",
            "\u001b[0;31mTypeError\u001b[0m                                 Traceback (most recent call last)",
            "\u001b[0;32m<ipython-input-57-a56e51696c79>\u001b[0m in \u001b[0;36m<cell line: 0>\u001b[0;34m()\u001b[0m\n\u001b[1;32m      1\u001b[0m \u001b[0;32mfrom\u001b[0m \u001b[0mtyping_extensions\u001b[0m \u001b[0;32mimport\u001b[0m \u001b[0mCounter\u001b[0m\u001b[0;34m\u001b[0m\u001b[0;34m\u001b[0m\u001b[0m\n\u001b[0;32m----> 2\u001b[0;31m \u001b[0mi\u001b[0m\u001b[0;34m(\u001b[0m\u001b[0mCounter\u001b[0m\u001b[0;34m)\u001b[0m\u001b[0;34m\u001b[0m\u001b[0;34m\u001b[0m\u001b[0m\n\u001b[0m",
            "\u001b[0;31mTypeError\u001b[0m: 'int' object is not callable"
          ]
        }
      ]
    },
    {
      "cell_type": "code",
      "source": [
        "i=1\n",
        "while i<=5:\n",
        "  print(i)\n",
        "  i=i+1"
      ],
      "metadata": {
        "id": "v1VbJAA4HA22",
        "outputId": "5fdb1d74-9e8c-4efe-c97b-575f06a10c71",
        "colab": {
          "base_uri": "https://localhost:8080/"
        }
      },
      "execution_count": 3,
      "outputs": [
        {
          "output_type": "stream",
          "name": "stdout",
          "text": [
            "1\n",
            "2\n",
            "3\n",
            "4\n",
            "5\n"
          ]
        }
      ]
    },
    {
      "cell_type": "code",
      "source": [
        "i=1\n",
        "while i<=10:\n",
        " print(\"hashir\")\n",
        " i=i+1\n"
      ],
      "metadata": {
        "id": "OeW_KIMKYGJl",
        "outputId": "e5234b53-8e63-49b5-df50-a1c69ea7bc55",
        "colab": {
          "base_uri": "https://localhost:8080/"
        }
      },
      "execution_count": 7,
      "outputs": [
        {
          "output_type": "stream",
          "name": "stdout",
          "text": [
            "hashir\n",
            "hashir\n",
            "hashir\n",
            "hashir\n",
            "hashir\n",
            "hashir\n",
            "hashir\n",
            "hashir\n",
            "hashir\n",
            "hashir\n"
          ]
        }
      ]
    },
    {
      "cell_type": "code",
      "source": [
        "i=1\n",
        "while i<8:\n",
        "  print('EASY')\n",
        "  i=i+1"
      ],
      "metadata": {
        "id": "AG0guU59YtbI",
        "outputId": "020c5d4c-6b94-47ca-d890-0c2984ba023a",
        "colab": {
          "base_uri": "https://localhost:8080/"
        }
      },
      "execution_count": 8,
      "outputs": [
        {
          "output_type": "stream",
          "name": "stdout",
          "text": [
            "EASY\n",
            "EASY\n",
            "EASY\n",
            "EASY\n",
            "EASY\n",
            "EASY\n",
            "EASY\n"
          ]
        }
      ]
    },
    {
      "cell_type": "code",
      "source": [
        "i=10\n",
        "while i>=0:\n",
        "  print(i)\n",
        "  i=i-1"
      ],
      "metadata": {
        "id": "LT8r6XHdaiIF",
        "outputId": "47e2cb72-73c7-4d0c-d2f0-6a349df83dbc",
        "colab": {
          "base_uri": "https://localhost:8080/"
        }
      },
      "execution_count": 18,
      "outputs": [
        {
          "output_type": "stream",
          "name": "stdout",
          "text": [
            "10\n",
            "9\n",
            "8\n",
            "7\n",
            "6\n",
            "5\n",
            "4\n",
            "3\n",
            "2\n",
            "1\n",
            "0\n"
          ]
        }
      ]
    },
    {
      "cell_type": "code",
      "source": [
        "i=24\n",
        "while i>=0:\n",
        "  print(i)\n",
        "  i=i-1"
      ],
      "metadata": {
        "id": "WOUxRIVZazE2",
        "outputId": "764400e1-40e1-4f9c-8b3a-0a93c8a59fee",
        "colab": {
          "base_uri": "https://localhost:8080/"
        }
      },
      "execution_count": 19,
      "outputs": [
        {
          "output_type": "stream",
          "name": "stdout",
          "text": [
            "24\n",
            "23\n",
            "22\n",
            "21\n",
            "20\n",
            "19\n",
            "18\n",
            "17\n",
            "16\n",
            "15\n",
            "14\n",
            "13\n",
            "12\n",
            "11\n",
            "10\n",
            "9\n",
            "8\n",
            "7\n",
            "6\n",
            "5\n",
            "4\n",
            "3\n",
            "2\n",
            "1\n",
            "0\n"
          ]
        }
      ]
    },
    {
      "cell_type": "markdown",
      "source": [
        "Count to 10:\n",
        "Write a while loop that prints numbers from 1 to 10.\n",
        "\n",
        "Even Numbers:\n",
        "Use a while loop to print all even numbers from 2 to 20.\n",
        "\n",
        "Guess the Number Game:\n",
        "Ask the user to guess a number between 1 and 10. Keep looping until they guess correctly.\n",
        "\n",
        "Sum Until Zero:\n",
        "Keep asking the user for numbers. Stop when they enter 0 and print the total sum.\n",
        "\n",
        "Password Checker:\n",
        "Ask the user to enter a password. Keep asking until they enter the correct one."
      ],
      "metadata": {
        "id": "LngomfY8bTUQ"
      }
    },
    {
      "cell_type": "code",
      "source": [
        "i=1\n",
        "while i<11:\n",
        "  print(i)\n",
        "  i=i+1"
      ],
      "metadata": {
        "id": "ZpqB91rBbA3_",
        "outputId": "4e7ecb08-ce19-45c1-c423-02ed11674a63",
        "colab": {
          "base_uri": "https://localhost:8080/"
        }
      },
      "execution_count": 21,
      "outputs": [
        {
          "output_type": "stream",
          "name": "stdout",
          "text": [
            "1\n",
            "2\n",
            "3\n",
            "4\n",
            "5\n",
            "6\n",
            "7\n",
            "8\n",
            "9\n",
            "10\n"
          ]
        }
      ]
    },
    {
      "cell_type": "code",
      "source": [
        "i=2\n",
        "while i<22:\n",
        "  print(i)\n",
        "  i=i+2"
      ],
      "metadata": {
        "id": "owG1-x82bhH1",
        "outputId": "19fd22ce-4b3c-4c06-8665-e01022db57f2",
        "colab": {
          "base_uri": "https://localhost:8080/"
        }
      },
      "execution_count": 22,
      "outputs": [
        {
          "output_type": "stream",
          "name": "stdout",
          "text": [
            "2\n",
            "4\n",
            "6\n",
            "8\n",
            "10\n",
            "12\n",
            "14\n",
            "16\n",
            "18\n",
            "20\n"
          ]
        }
      ]
    },
    {
      "cell_type": "code",
      "source": [
        " i=100\n",
        " while i>=1:\n",
        "  print(i)\n",
        "  i=i-1"
      ],
      "metadata": {
        "id": "HL-JWb_0fIl6"
      },
      "execution_count": null,
      "outputs": []
    },
    {
      "cell_type": "code",
      "source": [
        "print(\"hello\")"
      ],
      "metadata": {
        "id": "PvQ5_PIxfRxz"
      },
      "execution_count": null,
      "outputs": []
    },
    {
      "cell_type": "code",
      "source": [],
      "metadata": {
        "id": "42eQHrSjf0LN"
      },
      "execution_count": null,
      "outputs": []
    }
  ]
}