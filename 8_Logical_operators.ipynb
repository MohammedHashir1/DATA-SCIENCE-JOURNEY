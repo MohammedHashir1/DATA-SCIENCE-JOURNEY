{
  "nbformat": 4,
  "nbformat_minor": 0,
  "metadata": {
    "colab": {
      "provenance": [],
      "authorship_tag": "ABX9TyOplHWS2n3eg/s1dvyoGqNP",
      "include_colab_link": true
    },
    "kernelspec": {
      "name": "python3",
      "display_name": "Python 3"
    },
    "language_info": {
      "name": "python"
    }
  },
  "cells": [
    {
      "cell_type": "markdown",
      "metadata": {
        "id": "view-in-github",
        "colab_type": "text"
      },
      "source": [
        "<a href=\"https://colab.research.google.com/github/MohammedHashir1/DATA-SCIENCE-JOURNEY/blob/main/8_Logical_operators.ipynb\" target=\"_parent\"><img src=\"https://colab.research.google.com/assets/colab-badge.svg\" alt=\"Open In Colab\"/></a>"
      ]
    },
    {
      "cell_type": "markdown",
      "source": [
        "IF ELSE Conditions\n"
      ],
      "metadata": {
        "id": "BAsxzq4qtKNy"
      }
    },
    {
      "cell_type": "code",
      "execution_count": null,
      "metadata": {
        "id": "Ph696S5Xgvju",
        "colab": {
          "base_uri": "https://localhost:8080/"
        },
        "outputId": "e74e22d8-4ec1-4bc7-ce92-750b200cefd0"
      },
      "outputs": [
        {
          "output_type": "stream",
          "name": "stdout",
          "text": [
            "let go to school\n"
          ]
        }
      ],
      "source": [
        "tommorow_is_a_holiday= True\n",
        "if tommorow_is_a_holiday:\n",
        "                     print(\"let go to school\")\n",
        "else :\n",
        "    print(\"yuhuuu hurre\")\n"
      ]
    },
    {
      "cell_type": "code",
      "source": [
        "raining= True\n",
        "if raining:\n",
        "  print(\"lets go to office\")\n",
        "else:\n",
        "    print(\"work from home\")"
      ],
      "metadata": {
        "colab": {
          "base_uri": "https://localhost:8080/"
        },
        "id": "AjXtF7ufhibi",
        "outputId": "727f2d6a-5202-489d-af71-0041479f1366"
      },
      "execution_count": null,
      "outputs": [
        {
          "output_type": "stream",
          "name": "stdout",
          "text": [
            "lets go to office\n"
          ]
        }
      ]
    },
    {
      "cell_type": "code",
      "source": [
        " #Ask the user to enter their age.\n",
        "\n",
        "#If the age is 18 or more, print \"You are eligible to vote.\"\n",
        "\n",
        "#Otherwise, print \"You are not eligible to vote.\"\n",
        "a=int(input(\"enter your age:\"))\n",
        "if a>=18:\n",
        "  print(\"you are elgible to vote\")\n",
        "else :\n",
        "    print(\"you are not elgible to vote\")"
      ],
      "metadata": {
        "id": "Mk1Uvlg3tAJN",
        "colab": {
          "base_uri": "https://localhost:8080/"
        },
        "outputId": "187fdab8-9653-4b44-f7bc-323fe4c817cf"
      },
      "execution_count": null,
      "outputs": [
        {
          "output_type": "stream",
          "name": "stdout",
          "text": [
            "enter your age:12\n",
            "you are not elgible to vote\n"
          ]
        }
      ]
    },
    {
      "cell_type": "markdown",
      "source": [
        "NOT condition # not makes the condition false even if its true\n"
      ],
      "metadata": {
        "id": "os18p9KVyqsu"
      }
    },
    {
      "cell_type": "code",
      "source": [
        "raining= True\n",
        "if not raining:\n",
        "  print(\"lets go to office\")\n",
        "else:\n",
        "    print(\"work from home\")"
      ],
      "metadata": {
        "colab": {
          "base_uri": "https://localhost:8080/"
        },
        "id": "5Muv7uqEw3KA",
        "outputId": "6aa159ce-8c4a-41b4-be19-99c7897759e8"
      },
      "execution_count": null,
      "outputs": [
        {
          "output_type": "stream",
          "name": "stdout",
          "text": [
            "work from home\n"
          ]
        }
      ]
    },
    {
      "cell_type": "code",
      "source": [
        " # if class started then lets concentrate else revise the previous class\n",
        "class_started= True\n",
        "\n",
        "if class_started:\n",
        "          print(\"lets concentrate\")\n",
        "\n",
        "else:\n",
        "    print(\"revise the previous class\")\n"
      ],
      "metadata": {
        "colab": {
          "base_uri": "https://localhost:8080/"
        },
        "id": "_vrnjCu1yjbE",
        "outputId": "22c57456-f2ac-4457-9770-30897902372b"
      },
      "execution_count": null,
      "outputs": [
        {
          "output_type": "stream",
          "name": "stdout",
          "text": [
            "lets concentrate\n"
          ]
        }
      ]
    },
    {
      "cell_type": "markdown",
      "source": [
        "not condition"
      ],
      "metadata": {
        "id": "P_xeV6L60Cnv"
      }
    },
    {
      "cell_type": "code",
      "source": [
        "class_started= True\n",
        "\n",
        "if not class_started:\n",
        "          print(\"lets concentrate\")\n",
        "\n",
        "else :\n",
        "    print(\"revise the previous class\")\n"
      ],
      "metadata": {
        "colab": {
          "base_uri": "https://localhost:8080/"
        },
        "id": "bqB0C6uxzvLC",
        "outputId": "2d118306-b4bc-4054-83ab-889046fff2d0"
      },
      "execution_count": null,
      "outputs": [
        {
          "output_type": "stream",
          "name": "stdout",
          "text": [
            "revise the previous class\n"
          ]
        }
      ]
    },
    {
      "cell_type": "markdown",
      "source": [
        "AND Condition"
      ],
      "metadata": {
        "id": "TZUH2PQTF0OC"
      }
    },
    {
      "cell_type": "code",
      "source": [
        "vegetable_present= False\n",
        "salt_present= False\n",
        "if vegetable_present and salt_present:\n",
        "  print(\"its a good dish\")\n",
        "else:\n",
        "    print(\"its a bad dish\")\n",
        "    print(f\"its because vegetable_present:{vegetable_present}\")\n",
        "    print(f\"its because salt_present:{salt_present}\")\n"
      ],
      "metadata": {
        "colab": {
          "base_uri": "https://localhost:8080/"
        },
        "id": "E3FysDbsGGsk",
        "outputId": "bb603a8e-5d72-45f6-caf2-f9bf6c17ad90"
      },
      "execution_count": null,
      "outputs": [
        {
          "output_type": "stream",
          "name": "stdout",
          "text": [
            "its a bad dish\n",
            "its because vegetable_present:False\n",
            "its because salt_present:False\n"
          ]
        }
      ]
    },
    {
      "cell_type": "code",
      "source": [
        "vegetable_present= False\n",
        "salt_present= True\n",
        "if vegetable_present and salt_present:\n",
        "  print(\"its a good dish\")\n",
        "else:\n",
        "    print(\"its a bad dish\")\n",
        "    print(f\"its because vegetable_present:{vegetable_present}\")\n",
        "    print(f\"its because salt_present:{salt_present}\")\n"
      ],
      "metadata": {
        "colab": {
          "base_uri": "https://localhost:8080/"
        },
        "id": "U2HfiM1CHMEr",
        "outputId": "03c08877-deef-4004-98c3-642ad1294dce"
      },
      "execution_count": null,
      "outputs": [
        {
          "output_type": "stream",
          "name": "stdout",
          "text": [
            "its a bad dish\n",
            "its because vegetable_present:False\n",
            "its because salt_present:True\n"
          ]
        }
      ]
    },
    {
      "cell_type": "code",
      "source": [
        "vegetable_present= True\n",
        "salt_present= False\n",
        "if vegetable_present and salt_present:\n",
        "  print(\"its a good dish\")\n",
        "else:\n",
        "    print(\"its a bad dish\")\n",
        "    print(f\"its because vegetable_present:{vegetable_present}\")\n",
        "    print(f\"its because salt_present:{salt_present}\")\n"
      ],
      "metadata": {
        "colab": {
          "base_uri": "https://localhost:8080/"
        },
        "id": "fUsCyL5vHu5T",
        "outputId": "6d9c306c-f399-4072-8969-d58d29f37e68"
      },
      "execution_count": null,
      "outputs": [
        {
          "output_type": "stream",
          "name": "stdout",
          "text": [
            "its a bad dish\n",
            "its because vegetable_present:True\n",
            "its because salt_present:False\n"
          ]
        }
      ]
    },
    {
      "cell_type": "code",
      "source": [
        "egetable_present= True\n",
        "salt_present= True\n",
        "if vegetable_present and salt_present:\n",
        "  print(\"its a good dish\")\n",
        "else:\n",
        "    print(\"its a bad dish\")\n",
        "    print(f\"its because vegetable_present:{vegetable_present}\")\n",
        "    print(f\"its because salt_present:{salt_present}\")\n"
      ],
      "metadata": {
        "colab": {
          "base_uri": "https://localhost:8080/"
        },
        "id": "9ePo0Q9bHy06",
        "outputId": "5ce1521d-682d-4959-bbc2-56dce6e745f2"
      },
      "execution_count": null,
      "outputs": [
        {
          "output_type": "stream",
          "name": "stdout",
          "text": [
            "its a good dish\n"
          ]
        }
      ]
    },
    {
      "cell_type": "markdown",
      "source": [
        "OR Conditional"
      ],
      "metadata": {
        "id": "VuCtUPMrJHXL"
      }
    },
    {
      "cell_type": "code",
      "source": [
        " car =False\n",
        " bike = False\n",
        "\n",
        " if car or bike:\n",
        "     print (\"yes i can travel 100kms in a day\")\n",
        "else:\n",
        "      print(\"no i cant travel without car or a bike\")"
      ],
      "metadata": {
        "colab": {
          "base_uri": "https://localhost:8080/"
        },
        "id": "AtieSLxQH553",
        "outputId": "58e8d5ad-c4a1-4d82-de41-6728177083ca"
      },
      "execution_count": null,
      "outputs": [
        {
          "output_type": "stream",
          "name": "stdout",
          "text": [
            "no i cant travel without car or a bike\n"
          ]
        }
      ]
    },
    {
      "cell_type": "code",
      "source": [
        "car =False\n",
        "bike =True\n",
        "\n",
        "if car or bike:\n",
        "     print (\"yes i can travel 100kms in a day\")\n",
        "else:\n",
        "      print(\"no i cant travel without car or a bike\")"
      ],
      "metadata": {
        "colab": {
          "base_uri": "https://localhost:8080/"
        },
        "id": "90C3spv2KwzE",
        "outputId": "3c98cd68-c883-42ce-969b-183203736823"
      },
      "execution_count": null,
      "outputs": [
        {
          "output_type": "stream",
          "name": "stdout",
          "text": [
            "yes i can travel 100kms in a day\n"
          ]
        }
      ]
    },
    {
      "cell_type": "code",
      "source": [
        "attendence = 90\n",
        "assingment = 60\n",
        "print(f\"did the attendence criteria met?:{attendence >= 75}\")\n",
        "print(f\"did the assginment criteria met?:{assingment >= 75}\")\n",
        "if attendence <=75:\n",
        "  print(\"the student is elgible to appear in final exam\")\n",
        "else:\n",
        "      print(\"the student is not elgible to appear in final exam\")\n"
      ],
      "metadata": {
        "id": "DpxWMokRK5w8",
        "colab": {
          "base_uri": "https://localhost:8080/"
        },
        "outputId": "57f2e21a-8b03-4db3-ce99-61bd435afd05"
      },
      "execution_count": 3,
      "outputs": [
        {
          "output_type": "stream",
          "name": "stdout",
          "text": [
            "did the attendence criteria met?:True\n",
            "did the assginment criteria met?:False\n",
            "the student is not elgible to appear in final exam\n"
          ]
        }
      ]
    },
    {
      "cell_type": "code",
      "source": [
        "credit_card= False\n",
        "debit_card= False\n",
        "\n",
        "if credit_card or debit_card:\n",
        "  print(\"proceed further for payment\")\n",
        "else:\n",
        "  print(\"decline\")\n"
      ],
      "metadata": {
        "colab": {
          "base_uri": "https://localhost:8080/"
        },
        "id": "64qtB8ejtXU5",
        "outputId": "98b8d97e-2260-4562-992d-90cac7cbacf1"
      },
      "execution_count": 4,
      "outputs": [
        {
          "output_type": "stream",
          "name": "stdout",
          "text": [
            "decline\n"
          ]
        }
      ]
    },
    {
      "cell_type": "code",
      "source": [
        "from typing import NewType\n",
        "credit_card= False\n",
        "debit_card= False\n",
        "net_banking=True\n",
        "\n",
        "if credit_card or debit_card or net_banking:\n",
        "  print(\"proceed further for payment\")\n",
        "else:\n",
        "  print(\"decline\")\n"
      ],
      "metadata": {
        "colab": {
          "base_uri": "https://localhost:8080/"
        },
        "id": "jdtE2rddwmPW",
        "outputId": "ab2c4699-f8c7-456f-d6d2-a621e7d1df2c"
      },
      "execution_count": 5,
      "outputs": [
        {
          "output_type": "stream",
          "name": "stdout",
          "text": [
            "proceed further for payment\n"
          ]
        }
      ]
    },
    {
      "cell_type": "code",
      "source": [
        "  # AND , OR conditions together\n",
        "attendece= 70\n",
        "assignment= 60\n",
        "sports_player= True\n",
        "if attendece<=75 and assignment<= 40 or sports_player:\n",
        "   print(\"the student is eligible\")\n",
        "else:\n",
        "   print(\"not eligible\")"
      ],
      "metadata": {
        "colab": {
          "base_uri": "https://localhost:8080/"
        },
        "id": "bqxnp3tTxUY9",
        "outputId": "bd0620c9-27cc-418d-b762-15ff7781276e"
      },
      "execution_count": 10,
      "outputs": [
        {
          "output_type": "stream",
          "name": "stdout",
          "text": [
            "the student is eligible\n"
          ]
        }
      ]
    },
    {
      "cell_type": "code",
      "source": [
        " # NESTED IF ELSE\n",
        "\n",
        " attendence =78\n",
        " assignment =60\n",
        " sports = True\n",
        "\n",
        " if attendence<=75 and assignment<=40:\n",
        "  print(\"eligible\")\n",
        "  if sports:\n",
        "    print(\"will get extra ten marks\")\n",
        "  else:\n",
        "    print(\"only eligible for exam no sportz marks\")\n",
        " else:\n",
        "  print(\"student is not eligible\")\n"
      ],
      "metadata": {
        "colab": {
          "base_uri": "https://localhost:8080/"
        },
        "id": "X4reU21izkfO",
        "outputId": "56f2fe2d-8b9a-45c8-e575-7e68e36fe72d"
      },
      "execution_count": 11,
      "outputs": [
        {
          "output_type": "stream",
          "name": "stdout",
          "text": [
            "student is not eligible\n"
          ]
        }
      ]
    },
    {
      "cell_type": "code",
      "source": [],
      "metadata": {
        "id": "ZOyyTVufDWzX"
      },
      "execution_count": null,
      "outputs": []
    }
  ]
}