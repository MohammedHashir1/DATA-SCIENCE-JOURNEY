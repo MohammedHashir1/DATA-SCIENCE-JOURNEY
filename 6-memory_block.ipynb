{
  "nbformat": 4,
  "nbformat_minor": 0,
  "metadata": {
    "colab": {
      "provenance": [],
      "authorship_tag": "ABX9TyPO3dmuQ1kLm2GK/bDGEiRN",
      "include_colab_link": true
    },
    "kernelspec": {
      "name": "python3",
      "display_name": "Python 3"
    },
    "language_info": {
      "name": "python"
    }
  },
  "cells": [
    {
      "cell_type": "markdown",
      "metadata": {
        "id": "view-in-github",
        "colab_type": "text"
      },
      "source": [
        "<a href=\"https://colab.research.google.com/github/MohammedHashir1/DATA-SCIENCE-JOURNEY/blob/main/6-memory_block.ipynb\" target=\"_parent\"><img src=\"https://colab.research.google.com/assets/colab-badge.svg\" alt=\"Open In Colab\"/></a>"
      ]
    },
    {
      "cell_type": "code",
      "execution_count": 1,
      "metadata": {
        "colab": {
          "base_uri": "https://localhost:8080/"
        },
        "id": "covqyy5DgxeI",
        "outputId": "cf38cd60-17e8-4b07-951f-838e69fb5d09"
      },
      "outputs": [
        {
          "output_type": "stream",
          "name": "stdout",
          "text": [
            "10751560 10752232 133989944236720 9781536\n"
          ]
        }
      ],
      "source": [
        "a=23\n",
        "b=44\n",
        "c=44.65\n",
        "d=\"string\"\n",
        "print(id(a),id(b),id(c),id(d))"
      ]
    },
    {
      "cell_type": "code",
      "source": [
        "a=\"sunny\"\n",
        "print(id(a))"
      ],
      "metadata": {
        "colab": {
          "base_uri": "https://localhost:8080/"
        },
        "id": "iKc37Vt8l5uM",
        "outputId": "1a71627d-b956-4a00-b876-111bdadd4a20"
      },
      "execution_count": 2,
      "outputs": [
        {
          "output_type": "stream",
          "name": "stdout",
          "text": [
            "133989395016112\n"
          ]
        }
      ]
    },
    {
      "cell_type": "code",
      "source": [],
      "metadata": {
        "id": "Z-SkgwOXmU0U"
      },
      "execution_count": null,
      "outputs": []
    }
  ]
}