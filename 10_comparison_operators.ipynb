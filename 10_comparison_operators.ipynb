{
  "nbformat": 4,
  "nbformat_minor": 0,
  "metadata": {
    "colab": {
      "provenance": [],
      "authorship_tag": "ABX9TyMjoSQj2447BXe/rhjPfs/t",
      "include_colab_link": true
    },
    "kernelspec": {
      "name": "python3",
      "display_name": "Python 3"
    },
    "language_info": {
      "name": "python"
    }
  },
  "cells": [
    {
      "cell_type": "markdown",
      "metadata": {
        "id": "view-in-github",
        "colab_type": "text"
      },
      "source": [
        "<a href=\"https://colab.research.google.com/github/MohammedHashir1/DATA-SCIENCE-JOURNEY/blob/main/10_comparison_operators.ipynb\" target=\"_parent\"><img src=\"https://colab.research.google.com/assets/colab-badge.svg\" alt=\"Open In Colab\"/></a>"
      ]
    },
    {
      "cell_type": "markdown",
      "source": [
        "Comparison operators\n"
      ],
      "metadata": {
        "id": "_PiInt-RQHyv"
      }
    },
    {
      "cell_type": "code",
      "source": [
        "your_score=40\n",
        "passing_marks=35\n",
        "\n",
        "if your_score>= passing_marks:\n",
        "  print(\"eligible\")\n",
        "else:\n",
        "    print(\"not eligible\")"
      ],
      "metadata": {
        "colab": {
          "base_uri": "https://localhost:8080/"
        },
        "id": "m9naJOdVQMtw",
        "outputId": "239389c7-2498-41ea-890d-731644677c96"
      },
      "execution_count": 4,
      "outputs": [
        {
          "output_type": "stream",
          "name": "stdout",
          "text": [
            "eligible\n"
          ]
        }
      ]
    },
    {
      "cell_type": "code",
      "source": [
        "your_score=90\n",
        "passing_marks=60\n",
        "distinction_marks=75\n",
        "\n",
        "if your_score> passing_marks:\n",
        "   print(f\"your score is :{your_score}, you have passed have passed exam\")\n",
        "   if your_score>distinction_marks:\n",
        "    print(\"iam proud of you\")\n",
        "   else:\n",
        "     print(\"you tried your best\")\n",
        "else:\n",
        "     print(\"better luck next time\")"
      ],
      "metadata": {
        "colab": {
          "base_uri": "https://localhost:8080/"
        },
        "id": "bHFqK4kafKg-",
        "outputId": "e929271a-403d-4a45-8977-654f7bf1c005"
      },
      "execution_count": 5,
      "outputs": [
        {
          "output_type": "stream",
          "name": "stdout",
          "text": [
            "your score is :90, you have passed have passed exam\n",
            "iam proud of you\n"
          ]
        }
      ]
    },
    {
      "cell_type": "code",
      "source": [
        "your_score=34\n",
        "passing_marks=35\n",
        "distinction_marks=75\n",
        "\n",
        "if your_score> passing_marks:\n",
        "   print(f\"your score is :{your_score}, you have passed have passed exam\")\n",
        "   if your_score>distinction_marks:\n",
        "    print(\"iam proud of you\")\n",
        "   else:\n",
        "     print(\"you tried your best\")\n",
        "else:\n",
        "     print(\"better luck next time\")"
      ],
      "metadata": {
        "colab": {
          "base_uri": "https://localhost:8080/"
        },
        "id": "idMSOd8shMIf",
        "outputId": "fbac53d5-c1e9-4893-ffd8-91244497a94c"
      },
      "execution_count": 15,
      "outputs": [
        {
          "output_type": "stream",
          "name": "stdout",
          "text": [
            "better luck next time\n"
          ]
        }
      ]
    },
    {
      "cell_type": "code",
      "source": [],
      "metadata": {
        "id": "nv5eNQILk_ma"
      },
      "execution_count": null,
      "outputs": []
    }
  ]
}