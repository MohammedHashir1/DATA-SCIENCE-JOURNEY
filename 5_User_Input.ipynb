{
  "nbformat": 4,
  "nbformat_minor": 0,
  "metadata": {
    "colab": {
      "provenance": [],
      "authorship_tag": "ABX9TyPb+MtIHFS1jOuNm21XQq5t",
      "include_colab_link": true
    },
    "kernelspec": {
      "name": "python3",
      "display_name": "Python 3"
    },
    "language_info": {
      "name": "python"
    }
  },
  "cells": [
    {
      "cell_type": "markdown",
      "metadata": {
        "id": "view-in-github",
        "colab_type": "text"
      },
      "source": [
        "<a href=\"https://colab.research.google.com/github/MohammedHashir1/DATA-SCIENCE-JOURNEY/blob/main/5_User_Input.ipynb\" target=\"_parent\"><img src=\"https://colab.research.google.com/assets/colab-badge.svg\" alt=\"Open In Colab\"/></a>"
      ]
    },
    {
      "cell_type": "code",
      "source": [
        "name= input (\"enter your name: \")\n",
        "print(f\"you have entered: {name}\")\n"
      ],
      "metadata": {
        "colab": {
          "base_uri": "https://localhost:8080/"
        },
        "id": "jB2uvvOZ0AEP",
        "outputId": "0d6bae49-85e1-4c6a-fb87-f7175f566555"
      },
      "execution_count": null,
      "outputs": [
        {
          "output_type": "stream",
          "name": "stdout",
          "text": [
            "enter your name: hashir\n",
            "you have entered: hashir\n"
          ]
        }
      ]
    },
    {
      "cell_type": "code",
      "source": [
        "name= input (\"enter your name: \")\n",
        "print(f\"you have entered: {name}\")"
      ],
      "metadata": {
        "colab": {
          "base_uri": "https://localhost:8080/"
        },
        "id": "PNbmw_JM0C1-",
        "outputId": "21d9be92-8a95-4428-9490-3b162c494195"
      },
      "execution_count": null,
      "outputs": [
        {
          "output_type": "stream",
          "name": "stdout",
          "text": [
            "enter your name: hashir\n",
            "you have entered: hashir\n"
          ]
        }
      ]
    },
    {
      "cell_type": "code",
      "source": [
        "a= int(input (\"enter a number:\"))\n",
        "b= int(input (\"enter a number:\"))\n",
        "print(type(a),type (b))"
      ],
      "metadata": {
        "colab": {
          "base_uri": "https://localhost:8080/"
        },
        "id": "7TIy8NGa0IVk",
        "outputId": "120ebdd3-d315-4ea6-b31e-8f85e07a9c38"
      },
      "execution_count": null,
      "outputs": [
        {
          "output_type": "stream",
          "name": "stdout",
          "text": [
            "enter a number:55\n",
            "enter a number:45\n",
            "<class 'int'> <class 'int'>\n"
          ]
        }
      ]
    },
    {
      "cell_type": "code",
      "source": [
        "print(f\"sum of a and b:{a+b} \")"
      ],
      "metadata": {
        "colab": {
          "base_uri": "https://localhost:8080/"
        },
        "id": "9VVECdTFH5nw",
        "outputId": "f1568a6e-1afd-469c-e45c-d2a2af0940f6"
      },
      "execution_count": null,
      "outputs": [
        {
          "output_type": "stream",
          "name": "stdout",
          "text": [
            "sum of a and b:100 \n"
          ]
        }
      ]
    },
    {
      "cell_type": "code",
      "source": [
        "a=float(input(\"enter a number:\"))\n",
        "b=int(input(\"enter a number :\"))\n",
        "print(f\"sum of a and b:{a+b}\")"
      ],
      "metadata": {
        "colab": {
          "base_uri": "https://localhost:8080/"
        },
        "id": "aEAQfqkRIboG",
        "outputId": "851d9f24-5e3d-46e6-e664-5da2e183827b"
      },
      "execution_count": null,
      "outputs": [
        {
          "output_type": "stream",
          "name": "stdout",
          "text": [
            "enter a number:12.4\n",
            "enter a number :4\n",
            "sum of a and b:16.4\n"
          ]
        }
      ]
    },
    {
      "cell_type": "code",
      "source": [
        "#string to int\n",
        "a=50\n",
        "print(f\"the value befrore:{type(a)},value of a:{a}\")\n",
        "a=int(a)\n",
        "print(f\"the value after:{type(a)},,value of a:{a}\")\n"
      ],
      "metadata": {
        "colab": {
          "base_uri": "https://localhost:8080/"
        },
        "id": "qgvjNaGeJURO",
        "outputId": "f0e54314-1ded-47af-b565-593a76c014a7"
      },
      "execution_count": null,
      "outputs": [
        {
          "output_type": "stream",
          "name": "stdout",
          "text": [
            "the value befrore:<class 'int'>,value of a:50\n",
            "the value after:<class 'int'>,,value of a:50\n"
          ]
        }
      ]
    },
    {
      "cell_type": "code",
      "source": [
        "#float to int\n",
        "a=50.2\n",
        "print(f\"the value before:{type(a),},value of a:{a}\")\n",
        "a=int(a)\n",
        "print(f\"the value after:{type(a)}, value of a:{a}\")"
      ],
      "metadata": {
        "colab": {
          "base_uri": "https://localhost:8080/"
        },
        "id": "raifNr8NMh1j",
        "outputId": "ccc49058-5916-4a61-fb7d-f137e8ca5779"
      },
      "execution_count": null,
      "outputs": [
        {
          "output_type": "stream",
          "name": "stdout",
          "text": [
            "the value before:(<class 'float'>,),value of a:50.2\n",
            "the value after:<class 'int'>, value of a:50\n"
          ]
        }
      ]
    },
    {
      "cell_type": "code",
      "source": [
        "#integer to float\n",
        "a=50\n",
        "print(f\"value before:{a},value of a:{a}\")\n",
        "a=float(a)\n",
        "print(f\"value after:{a},value of a:{a}\")"
      ],
      "metadata": {
        "colab": {
          "base_uri": "https://localhost:8080/"
        },
        "id": "lRDkzjaJNW_s",
        "outputId": "2ebcc006-74a6-48a3-ddfd-bd37377ea375"
      },
      "execution_count": null,
      "outputs": [
        {
          "output_type": "stream",
          "name": "stdout",
          "text": [
            "value before:50,value of a:50\n",
            "value after:50.0,value of a:50.0\n"
          ]
        }
      ]
    },
    {
      "cell_type": "code",
      "source": [
        "#integer to boolean\n",
        "a=22\n",
        "print(f\"value before:{a},value of a:{a}\")\n",
        "a=bool(a)\n",
        "print(f\"value after:{a}\")"
      ],
      "metadata": {
        "colab": {
          "base_uri": "https://localhost:8080/"
        },
        "id": "qFTq7AP6OXdS",
        "outputId": "2cfaaf44-e5f4-479b-d8a8-3a07e71ceb51"
      },
      "execution_count": null,
      "outputs": [
        {
          "output_type": "stream",
          "name": "stdout",
          "text": [
            "value before:22,value of a:22\n",
            "value after:True\n"
          ]
        }
      ]
    },
    {
      "cell_type": "code",
      "source": [
        "#integer to boolean\n",
        "a=0\n",
        "print(f\"value before:{a},value of a:{a}\")\n",
        "a=bool(a)\n",
        "print(f\"value after:{a}\")"
      ],
      "metadata": {
        "colab": {
          "base_uri": "https://localhost:8080/"
        },
        "id": "Hdak7WEnPKb3",
        "outputId": "3a1ee237-6731-410e-fa03-f5abfe3c3b6b"
      },
      "execution_count": null,
      "outputs": [
        {
          "output_type": "stream",
          "name": "stdout",
          "text": [
            "value before:0,value of a:0\n",
            "value after:False\n"
          ]
        }
      ]
    },
    {
      "cell_type": "code",
      "source": [
        "#integer to boolean\n",
        "a=-5\n",
        "print(f\"value before:{a},value of a:{a}\")\n",
        "a=bool(a)\n",
        "print(f\"value after:{a}\")"
      ],
      "metadata": {
        "colab": {
          "base_uri": "https://localhost:8080/"
        },
        "id": "tXl1Xu64PO_M",
        "outputId": "b9b1d8cd-afe2-42d6-ce3c-ded55f319bbe"
      },
      "execution_count": null,
      "outputs": [
        {
          "output_type": "stream",
          "name": "stdout",
          "text": [
            "value before:-5,value of a:-5\n",
            "value after:True\n"
          ]
        }
      ]
    },
    {
      "cell_type": "code",
      "source": [
        "#string to boolean\n",
        "a=\"hashir\"\n",
        "print(f\"value before:{a},value of a:{a}\")\n",
        "a=bool(a)\n",
        "print(f\"value after:{a}\")"
      ],
      "metadata": {
        "colab": {
          "base_uri": "https://localhost:8080/"
        },
        "id": "8QwW7a13Paye",
        "outputId": "a108c649-7149-4d21-892a-bf292458853a"
      },
      "execution_count": null,
      "outputs": [
        {
          "output_type": "stream",
          "name": "stdout",
          "text": [
            "value before:hashir,value of a:hashir\n",
            "value after:True\n"
          ]
        }
      ]
    },
    {
      "cell_type": "code",
      "source": [
        "#string to boolean\n",
        "a=\"hashir\"\n",
        "print(f\"value before:{a},value of a:{a}\")\n",
        "a=bool(a)\n",
        "print(f\"value after:{a}\")"
      ],
      "metadata": {
        "id": "FGq6Xf4dP7TD"
      },
      "execution_count": null,
      "outputs": []
    },
    {
      "cell_type": "code",
      "source": [
        "#string to boolean\n",
        "a=\"true\"\n",
        "print(f\"value before:{a},value of a:{a}\")\n",
        "a=bool(a)\n",
        "print(f\"value after:{a}\")"
      ],
      "metadata": {
        "colab": {
          "base_uri": "https://localhost:8080/"
        },
        "id": "iTtCkcmcRZVf",
        "outputId": "cc74c867-b36f-4c27-98d1-dc6ab1ea064c"
      },
      "execution_count": null,
      "outputs": [
        {
          "output_type": "stream",
          "name": "stdout",
          "text": [
            "value before:true,value of a:true\n",
            "value after:True\n"
          ]
        }
      ]
    },
    {
      "cell_type": "code",
      "source": [
        "#string to boolean\n",
        "a=\"false\"\n",
        "print(f\"value before:{a},value of a:{a}\")\n",
        "a=bool(a)\n",
        "print(f\"value after:{a}\")"
      ],
      "metadata": {
        "colab": {
          "base_uri": "https://localhost:8080/"
        },
        "id": "SciU7KVbRbo6",
        "outputId": "b484df79-b74f-499a-8591-b7a257468725"
      },
      "execution_count": null,
      "outputs": [
        {
          "output_type": "stream",
          "name": "stdout",
          "text": [
            "value before:false,value of a:false\n",
            "value after:True\n"
          ]
        }
      ]
    },
    {
      "cell_type": "code",
      "source": [
        "#empty string to boolean\n",
        "a=\"\"\n",
        "print(f\"value before:{a},value of a:{a}\")\n",
        "a=bool(a)\n",
        "print(f\"value after:{a}\")"
      ],
      "metadata": {
        "colab": {
          "base_uri": "https://localhost:8080/"
        },
        "id": "FPz_itwPRnTl",
        "outputId": "de5da2ba-c678-4dfd-e710-7af5942d4686"
      },
      "execution_count": null,
      "outputs": [
        {
          "output_type": "stream",
          "name": "stdout",
          "text": [
            "value before:,value of a:\n",
            "value after:False\n"
          ]
        }
      ]
    },
    {
      "cell_type": "code",
      "source": [
        "#string to integer\n",
        "a=\"\"\n",
        "print(f\"value before:{a},value of a:{a}\")\n",
        "a=int(a)\n",
        "print(f\"value after:{a}\")"
      ],
      "metadata": {
        "colab": {
          "base_uri": "https://localhost:8080/",
          "height": 211
        },
        "id": "mY4g7Nx4R1TL",
        "outputId": "f29f522a-3db3-4377-b819-b7d3525a0d00"
      },
      "execution_count": null,
      "outputs": [
        {
          "output_type": "stream",
          "name": "stdout",
          "text": [
            "value before:,value of a:\n"
          ]
        },
        {
          "output_type": "error",
          "ename": "ValueError",
          "evalue": "invalid literal for int() with base 10: ''",
          "traceback": [
            "\u001b[0;31m---------------------------------------------------------------------------\u001b[0m",
            "\u001b[0;31mValueError\u001b[0m                                Traceback (most recent call last)",
            "\u001b[0;32m<ipython-input-31-d286616a2528>\u001b[0m in \u001b[0;36m<cell line: 0>\u001b[0;34m()\u001b[0m\n\u001b[1;32m      2\u001b[0m \u001b[0ma\u001b[0m\u001b[0;34m=\u001b[0m\u001b[0;34m\"\"\u001b[0m\u001b[0;34m\u001b[0m\u001b[0;34m\u001b[0m\u001b[0m\n\u001b[1;32m      3\u001b[0m \u001b[0mprint\u001b[0m\u001b[0;34m(\u001b[0m\u001b[0;34mf\"value before:{a},value of a:{a}\"\u001b[0m\u001b[0;34m)\u001b[0m\u001b[0;34m\u001b[0m\u001b[0;34m\u001b[0m\u001b[0m\n\u001b[0;32m----> 4\u001b[0;31m \u001b[0ma\u001b[0m\u001b[0;34m=\u001b[0m\u001b[0mint\u001b[0m\u001b[0;34m(\u001b[0m\u001b[0ma\u001b[0m\u001b[0;34m)\u001b[0m\u001b[0;34m\u001b[0m\u001b[0;34m\u001b[0m\u001b[0m\n\u001b[0m\u001b[1;32m      5\u001b[0m \u001b[0mprint\u001b[0m\u001b[0;34m(\u001b[0m\u001b[0;34mf\"value after:{a}\"\u001b[0m\u001b[0;34m)\u001b[0m\u001b[0;34m\u001b[0m\u001b[0;34m\u001b[0m\u001b[0m\n",
            "\u001b[0;31mValueError\u001b[0m: invalid literal for int() with base 10: ''"
          ]
        }
      ]
    },
    {
      "cell_type": "code",
      "source": [
        "# calculate the age of the user\n",
        "print(\"calculate your age\")\n",
        "a=int(input(f\"enter current year:\"))\n",
        "b=int(input(f\"enter year of birth:\"))\n",
        "print(f\"your age is:{a-b}\")\n"
      ],
      "metadata": {
        "colab": {
          "base_uri": "https://localhost:8080/"
        },
        "id": "h2ZGba8PSDTb",
        "outputId": "f570ec8b-8ce9-4a75-987b-d062dee27f88"
      },
      "execution_count": null,
      "outputs": [
        {
          "output_type": "stream",
          "name": "stdout",
          "text": [
            "calculate your age\n",
            "enter current year:2000\n",
            "enter year of birth:1947\n",
            "your age is:53\n"
          ]
        }
      ]
    },
    {
      "cell_type": "code",
      "source": [
        "name=input(\"name:\")\n",
        "place=input(\"place:\")\n",
        "year_of_birth=int(input(\"year of birth:\"))\n",
        "age= 2025- year_of_birth\n",
        "print(f\"\"\"\n",
        "my name is:{name}\n",
        "my place of birth:{place}\n",
        "{name} is of age:{age}\"\"\")"
      ],
      "metadata": {
        "colab": {
          "base_uri": "https://localhost:8080/"
        },
        "id": "P3WPGWKJVCal",
        "outputId": "64939ae7-e3b0-4679-f35b-1220bb45b980"
      },
      "execution_count": null,
      "outputs": [
        {
          "output_type": "stream",
          "name": "stdout",
          "text": [
            "name:hashir\n",
            "place:hyd\n",
            "year of birth:2004\n",
            "\n",
            "my name is:hashir\n",
            "my place of birth:hyd\n",
            "hashir is of age:21\n"
          ]
        }
      ]
    },
    {
      "cell_type": "code",
      "source": [],
      "metadata": {
        "id": "hlLpdTkCW2lU"
      },
      "execution_count": null,
      "outputs": []
    }
  ]
}