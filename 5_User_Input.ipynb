{
  "nbformat": 4,
  "nbformat_minor": 0,
  "metadata": {
    "colab": {
      "provenance": [],
      "toc_visible": true,
      "authorship_tag": "ABX9TyMhdZ54s/pWeO2Un/HYSaNU",
      "include_colab_link": true
    },
    "kernelspec": {
      "name": "python3",
      "display_name": "Python 3"
    },
    "language_info": {
      "name": "python"
    }
  },
  "cells": [
    {
      "cell_type": "markdown",
      "metadata": {
        "id": "view-in-github",
        "colab_type": "text"
      },
      "source": [
        "<a href=\"https://colab.research.google.com/github/MohammedHashir1/DATA-SCIENCE-JOURNEY/blob/main/5_User_Input.ipynb\" target=\"_parent\"><img src=\"https://colab.research.google.com/assets/colab-badge.svg\" alt=\"Open In Colab\"/></a>"
      ]
    },
    {
      "cell_type": "code",
      "source": [
        "name= input (\"enter your name: \")\n",
        "print(f\"you have entered: {name}\")\n"
      ],
      "metadata": {
        "colab": {
          "base_uri": "https://localhost:8080/"
        },
        "id": "jB2uvvOZ0AEP",
        "outputId": "0d6bae49-85e1-4c6a-fb87-f7175f566555"
      },
      "execution_count": 1,
      "outputs": [
        {
          "output_type": "stream",
          "name": "stdout",
          "text": [
            "enter your name: hashir\n",
            "you have entered: hashir\n"
          ]
        }
      ]
    },
    {
      "cell_type": "code",
      "source": [
        "name= input (\"enter your name: \")\n",
        "print(f\"you have entered: {name}\")"
      ],
      "metadata": {
        "colab": {
          "base_uri": "https://localhost:8080/"
        },
        "id": "PNbmw_JM0C1-",
        "outputId": "21d9be92-8a95-4428-9490-3b162c494195"
      },
      "execution_count": 2,
      "outputs": [
        {
          "output_type": "stream",
          "name": "stdout",
          "text": [
            "enter your name: hashir\n",
            "you have entered: hashir\n"
          ]
        }
      ]
    },
    {
      "cell_type": "code",
      "source": [],
      "metadata": {
        "id": "7TIy8NGa0IVk"
      },
      "execution_count": 2,
      "outputs": []
    }
  ]
}