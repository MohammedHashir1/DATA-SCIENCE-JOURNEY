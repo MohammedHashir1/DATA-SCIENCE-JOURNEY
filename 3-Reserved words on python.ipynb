{
 "cells": [
  {
   "cell_type": "code",
   "execution_count": null,
   "id": "1bb0c290",
   "metadata": {},
   "outputs": [],
   "source": [
    "#Reserved keywords are special words that Python already uses.\n",
    "#You cannot use them as variable names.\n",
    "#They are used to write Python rules and logic.\n",
    "# THIS ARE THE RESERVED KEYWORDS\n",
    "['False', 'None', 'True', 'and', 'as', 'assert', 'async', 'await',\n",
    " 'break', 'class', 'continue', 'def', 'del', 'elif', 'else', 'except',\n",
    " 'finally', 'for', 'from', 'global', 'if', 'import', 'in', 'is',\n",
    " 'lambda', 'nonlocal', 'not', 'or', 'pass', 'raise', 'return',\n",
    " 'try', 'while', 'with', 'yield']\n",
    "\n",
    "Total Keywords: 36\n",
    "\n",
    "#cant use it like print= hi there\n",
    "\n"
   ]
  }
 ],
 "metadata": {
  "language_info": {
   "name": "python"
  }
 },
 "nbformat": 4,
 "nbformat_minor": 5
}
